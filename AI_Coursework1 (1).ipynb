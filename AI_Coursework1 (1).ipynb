{
  "nbformat": 4,
  "nbformat_minor": 0,
  "metadata": {
    "colab": {
      "provenance": [],
      "collapsed_sections": [
        "J0qfojYiQYcJ",
        "YuYscD_M21A6",
        "Yu4qxnAfb_l9",
        "tqsR0ky6vXPi",
        "5HKQylZry5J_",
        "ltUbSoyV4tNT",
        "4he_Quq_LWYa"
      ]
    },
    "kernelspec": {
      "name": "python3",
      "display_name": "Python 3"
    },
    "language_info": {
      "name": "python"
    }
  },
  "cells": [
    {
      "cell_type": "markdown",
      "metadata": {
        "id": "ekjGTZYZPzRD"
      },
      "source": [
        "# **MNIST Report**\n",
        "###  **Artifical Intelligence: Coursework 1 | Kamal Keita-Jones**\n",
        "\n",
        "\n",
        "\n"
      ]
    },
    {
      "cell_type": "markdown",
      "metadata": {
        "id": "J0qfojYiQYcJ"
      },
      "source": [
        "\n",
        "\n",
        "Our aim is to undergo a systematic investigation into the best model for our chosen dataset. The MNIST database of handwritten digits.\n",
        "\n",
        "### **Defining the problem and chosen dataset**\n",
        "\n",
        "The input data for the investigation is from the MNIST database of handwritten digits. Specifically,  70,000 grayscale images (28 x 28 pixels). The problem we are trying to solve is that each of the handwritten digits are to be classified into 10 exclusive categories. Classes 0 to 9. In this investigation, we aim to assess which model is the best for this branch of image classification, Multiclass Classification.\n",
        "\n",
        "We are then hypothesising that\n",
        "- 1) the labels can be predicted using the input images (H1).\n",
        "- And 2) that our input data samples have sufficient patterns for our Neural Network, in order to learn correct output predictions H2)\n",
        "\n",
        "These two hypothesises (H1 and H2) are to be proven throughout our investigation. Changes will be made, if necessary, to ensure the input data provides predictable patterns for our neural network to learn from and successfully classify the given images.\n",
        "\n",
        "\n"
      ]
    },
    {
      "cell_type": "markdown",
      "metadata": {
        "id": "Q46UWOsTGgex"
      },
      "source": [
        "### **Processing Data**\n",
        "\n",
        "The 2D images for each sample must undergo a process of reshaping in order to be acceptable to our network. Each 28x28 pixel 2D image is reshaped into a vector (1D array). This is then scaled down between 0 and 1, [0, 1] as floating-point numbers.\n",
        "\n",
        "In order to be acceptable to our network, the labels for each digit must also be vectorised, lists of integers cannot be passed onto the network. This is achieved by categorical encoding (using the `to_categorical` python utlilty library).\n",
        "\n",
        "Vectors are “zero-filled” and the only nonzero element corresponds to the category each image belongs to.\n",
        "\n",
        "`'7' as a one-hot vector: [0, 0, 0, 0, 0, 0, 0, 1, 0, 0] `\n",
        "\n",
        "As you can see above 7 as a label is categorically (or ‘one-hot) encoded to the vector with the only nonzero element being in the 7th position of the array.\n"
      ]
    },
    {
      "cell_type": "code",
      "metadata": {
        "id": "V8QF-r_SO84b",
        "colab": {
          "base_uri": "https://localhost:8080/"
        },
        "outputId": "427cfcde-e89c-46a7-e3f2-483e30d18ad8"
      },
      "source": [
        "# load data\n",
        "from tensorflow. keras.datasets import mnist\n",
        "(train_images, train_labels), (test_images, test_labels) = mnist.load_data()\n",
        "\n",
        "# preprocess\n",
        "# vectorise data samples\n",
        "train_images = train_images.reshape((60000, 28 * 28))\n",
        "train_images = train_images.astype('float32') / 255\n",
        "test_images = test_images.reshape((10000, 28 * 28))\n",
        "test_images = test_images.astype('float32') / 255\n",
        "\n",
        "# vectorise labels using to_categorical\n",
        "from tensorflow.keras.utils import to_categorical\n",
        "train_labels = to_categorical(train_labels)\n",
        "test_labels = to_categorical(test_labels)\n",
        "\n"
      ],
      "execution_count": null,
      "outputs": [
        {
          "output_type": "stream",
          "name": "stdout",
          "text": [
            "Downloading data from https://storage.googleapis.com/tensorflow/tf-keras-datasets/mnist.npz\n",
            "11493376/11490434 [==============================] - 0s 0us/step\n",
            "11501568/11490434 [==============================] - 0s 0us/step\n"
          ]
        }
      ]
    },
    {
      "cell_type": "markdown",
      "metadata": {
        "id": "oYJtndvYP35e"
      },
      "source": [
        "### **Developing a model that achieves statistical power**\n",
        "\n",
        "We established that our input data and our target data are acceptable to our network. In the form of a tensor, multi-dimensional numpy array, allowing us to begin training our model.\n",
        "\n",
        "In the MNIST problem, each handwritten digit image belongs to one of 10 classesr. Meaning the random baseline we are aiming to beat with our model is 0.1 Achieving a higher accuracy than 10% proves hypothesises H1 and H2, that:\n",
        "- Our outputs can be predicted from our inputs\n",
        "- and there is sufficient information in our data for there to be relationship between the input data and our output data to be learnt by our model. (DLWP pg 113)\n",
        "\n",
        "When proving this key choices were then made regarding the architecture of our initial working network. Deciding which configurations of these attributes suit our particular problem:\n",
        "\n",
        "- Last-layer activation\n",
        "- Loss function\n",
        "- Optimiser configuration\n",
        "\n",
        "The last- layer of my neural network has activation of ‘10-way softmax’. This is because the results of my network need to be constrained to a 10-dimensional vector in order to be useful. And softmax outputs a probability distribution of 10 nonnegative values that sum to 1. Having a probability that the sample belongs to each class. The highest probability will be the predicted label for that sample.  \n",
        "\n",
        "In addition, the loss function selected is categorical cross-entropy as it is common practice for Multiclass single-label classification problems. The loss function quantifies how far the prediction is from the target classification.\n",
        "\n",
        "Categorical cross-entropy works well with categorical encoding due to its ability to reduce the discrepancy between the probability distribution outputted by the network and the actual distribution between classes.\n",
        "\n",
        "In conclusion, the optimisation scheme for the neural network was ‘RMSprop’ with its default learning rate and momentum. This has been selected because it is common with multiclass classification. The optimiser is what makes the appropriate changes to parameters in the ‘training loop’ using the provided metric to report on development.\n",
        "\n"
      ]
    },
    {
      "cell_type": "markdown",
      "metadata": {
        "id": "A-qLzqyLY5gd"
      },
      "source": [
        "The `validation_split` parameter, requires a floating point number between 0 and 1. This was used by keras as the fraction of training data to be set aside as validation data, approximately 16%.\n",
        "\n",
        "50,000 training images and 10,000 validation images not to be seen by the model.\n",
        "\n",
        "The `network.fit()` method trains the model we have built and returns a history object."
      ]
    },
    {
      "cell_type": "markdown",
      "metadata": {
        "id": "tMLJmTCVFd-9"
      },
      "source": [
        "#### Model #1: Achieving statistical power"
      ]
    },
    {
      "cell_type": "code",
      "metadata": {
        "colab": {
          "base_uri": "https://localhost:8080/"
        },
        "id": "VqEz5pJ9blfQ",
        "outputId": "850f01d4-d6af-4951-e4e2-067b195b7399"
      },
      "source": [
        "# build Model 1\n",
        "from tensorflow.keras import models, layers\n",
        "network = models.Sequential()\n",
        "\n",
        "network.add(layers.Dense(512, activation='relu', input_shape=(28 * 28, )))\n",
        "network.add(layers.Dense(10, activation='softmax'))\n",
        "\n",
        "network.compile(optimizer='rmsprop',\n",
        "               loss='categorical_crossentropy',\n",
        "               metrics=['accuracy'])\n",
        "\n",
        "network.summary()\n",
        "\n",
        "# train\n",
        "history = network.fit(train_images,\n",
        "                      train_labels,\n",
        "                      epochs=20,\n",
        "                      batch_size=128,\n",
        "                      validation_split = 0.166666666667)\n",
        "\n"
      ],
      "execution_count": null,
      "outputs": [
        {
          "output_type": "stream",
          "name": "stdout",
          "text": [
            "Model: \"sequential_4\"\n",
            "_________________________________________________________________\n",
            " Layer (type)                Output Shape              Param #   \n",
            "=================================================================\n",
            " dense_11 (Dense)            (None, 512)               401920    \n",
            "                                                                 \n",
            " dense_12 (Dense)            (None, 10)                5130      \n",
            "                                                                 \n",
            "=================================================================\n",
            "Total params: 407,050\n",
            "Trainable params: 407,050\n",
            "Non-trainable params: 0\n",
            "_________________________________________________________________\n",
            "Epoch 1/20\n",
            "391/391 [==============================] - 6s 15ms/step - loss: 0.2788 - accuracy: 0.9185 - val_loss: 0.1484 - val_accuracy: 0.9575\n",
            "Epoch 2/20\n",
            "391/391 [==============================] - 5s 14ms/step - loss: 0.1165 - accuracy: 0.9653 - val_loss: 0.0988 - val_accuracy: 0.9707\n",
            "Epoch 3/20\n",
            "391/391 [==============================] - 5s 13ms/step - loss: 0.0766 - accuracy: 0.9771 - val_loss: 0.0826 - val_accuracy: 0.9769\n",
            "Epoch 4/20\n",
            "391/391 [==============================] - 5s 13ms/step - loss: 0.0543 - accuracy: 0.9836 - val_loss: 0.0780 - val_accuracy: 0.9776\n",
            "Epoch 5/20\n",
            "391/391 [==============================] - 6s 14ms/step - loss: 0.0418 - accuracy: 0.9875 - val_loss: 0.0774 - val_accuracy: 0.9789\n",
            "Epoch 6/20\n",
            "391/391 [==============================] - 5s 12ms/step - loss: 0.0313 - accuracy: 0.9906 - val_loss: 0.0745 - val_accuracy: 0.9773\n",
            "Epoch 7/20\n",
            "391/391 [==============================] - 5s 12ms/step - loss: 0.0238 - accuracy: 0.9929 - val_loss: 0.0758 - val_accuracy: 0.9791\n",
            "Epoch 8/20\n",
            "391/391 [==============================] - 5s 12ms/step - loss: 0.0182 - accuracy: 0.9950 - val_loss: 0.0723 - val_accuracy: 0.9809\n",
            "Epoch 9/20\n",
            "391/391 [==============================] - 5s 12ms/step - loss: 0.0134 - accuracy: 0.9960 - val_loss: 0.0764 - val_accuracy: 0.9816\n",
            "Epoch 10/20\n",
            "391/391 [==============================] - 5s 12ms/step - loss: 0.0099 - accuracy: 0.9973 - val_loss: 0.0798 - val_accuracy: 0.9810\n",
            "Epoch 11/20\n",
            "391/391 [==============================] - 5s 13ms/step - loss: 0.0077 - accuracy: 0.9981 - val_loss: 0.0863 - val_accuracy: 0.9805\n",
            "Epoch 12/20\n",
            "391/391 [==============================] - 5s 12ms/step - loss: 0.0062 - accuracy: 0.9985 - val_loss: 0.0826 - val_accuracy: 0.9823\n",
            "Epoch 13/20\n",
            "391/391 [==============================] - 5s 12ms/step - loss: 0.0047 - accuracy: 0.9987 - val_loss: 0.0826 - val_accuracy: 0.9811\n",
            "Epoch 14/20\n",
            "391/391 [==============================] - 5s 12ms/step - loss: 0.0038 - accuracy: 0.9991 - val_loss: 0.1043 - val_accuracy: 0.9795\n",
            "Epoch 15/20\n",
            "391/391 [==============================] - 5s 12ms/step - loss: 0.0028 - accuracy: 0.9993 - val_loss: 0.0947 - val_accuracy: 0.9812\n",
            "Epoch 16/20\n",
            "391/391 [==============================] - 5s 12ms/step - loss: 0.0021 - accuracy: 0.9994 - val_loss: 0.0910 - val_accuracy: 0.9818\n",
            "Epoch 17/20\n",
            "391/391 [==============================] - 5s 13ms/step - loss: 0.0015 - accuracy: 0.9996 - val_loss: 0.0974 - val_accuracy: 0.9811\n",
            "Epoch 18/20\n",
            "391/391 [==============================] - 5s 12ms/step - loss: 0.0014 - accuracy: 0.9997 - val_loss: 0.1301 - val_accuracy: 0.9764\n",
            "Epoch 19/20\n",
            "391/391 [==============================] - 5s 13ms/step - loss: 0.0010 - accuracy: 0.9998 - val_loss: 0.1124 - val_accuracy: 0.9822\n",
            "Epoch 20/20\n",
            "391/391 [==============================] - 5s 12ms/step - loss: 7.8402e-04 - accuracy: 0.9998 - val_loss: 0.1100 - val_accuracy: 0.9829\n"
          ]
        }
      ]
    },
    {
      "cell_type": "markdown",
      "metadata": {
        "id": "_WhEhYq2WvXd"
      },
      "source": [
        "`history.history` returns a python dictionary, key value pairs for the keys shown below, storing metrics recorded during the initial models training.\n",
        "\n",
        "Here I am storing this dictionary in a new variable, `history_dict`,  to be refered to when plotting in result analysis."
      ]
    },
    {
      "cell_type": "code",
      "metadata": {
        "colab": {
          "base_uri": "https://localhost:8080/"
        },
        "id": "DYBTztnsbMaB",
        "outputId": "df053721-ce14-41fc-cc69-aaa1435fe67d"
      },
      "source": [
        "history_dict = history.history\n",
        "history_dict.keys()"
      ],
      "execution_count": null,
      "outputs": [
        {
          "output_type": "execute_result",
          "data": {
            "text/plain": [
              "dict_keys(['loss', 'accuracy', 'val_loss', 'val_accuracy'])"
            ]
          },
          "metadata": {},
          "execution_count": 13
        }
      ]
    },
    {
      "cell_type": "markdown",
      "metadata": {
        "id": "1vRw6NRIbgOv"
      },
      "source": [
        "Using the matplotlib library, I will plot the training and validation loss and accuracy throughout this initial model training. With the aim of beating the basline accuracy of 0.10 and proving our hypothesises."
      ]
    },
    {
      "cell_type": "markdown",
      "metadata": {
        "id": "H4pBklB9c-IA"
      },
      "source": [
        "Function I created to display the training and validation loss. (ref DLWP pg. 75)"
      ]
    },
    {
      "cell_type": "code",
      "metadata": {
        "id": "42dkD7EkdAa1"
      },
      "source": [
        "import matplotlib.pyplot as plt\n",
        "\n",
        "# Function to plot the loss of the lastest network\n",
        "def plot_loss():\n",
        "\n",
        "  history_dict = history.history\n",
        "\n",
        "  # store values for each neccessary key in the dictionary\n",
        "  loss_values = history_dict['loss']\n",
        "  val_loss_values = history_dict['val_loss']\n",
        "  accuracy_values = history_dict['accuracy']\n",
        "\n",
        "  epochs = range(1, len(accuracy_values) + 1)\n",
        "\n",
        "  # format strings converter\n",
        "  blue_dotted = 'ob'\n",
        "  solid_blue_lines = '-b'\n",
        "\n",
        "  # plot training loss\n",
        "  plt.plot(epochs, loss_values, blue_dotted, label = 'Training loss')\n",
        "\n",
        "  # plot validation loss\n",
        "  plt.plot(epochs, val_loss_values, solid_blue_lines, label = 'Validation loss')\n",
        "\n",
        "  plt.title('Training and validation loss')\n",
        "  plt.xlabel('Epochs')\n",
        "  plt.ylabel('Loss')\n",
        "  plt.legend()\n",
        "\n",
        "  plt.show()\n",
        "\n"
      ],
      "execution_count": null,
      "outputs": []
    },
    {
      "cell_type": "code",
      "metadata": {
        "colab": {
          "base_uri": "https://localhost:8080/",
          "height": 295
        },
        "id": "yYD-wYvqbGuz",
        "outputId": "50ac71b8-fd0a-4e3e-a106-6a01cbc4cd6b"
      },
      "source": [
        "plot_loss()"
      ],
      "execution_count": null,
      "outputs": [
        {
          "output_type": "display_data",
          "data": {
            "image/png": "[encoded data removed]",
            "text/plain": [
              "<Figure size 432x288 with 1 Axes>"
            ]
          },
          "metadata": {
            "needs_background": "light"
          }
        }
      ]
    },
    {
      "cell_type": "markdown",
      "metadata": {
        "id": "sxMSt5uGfhn9"
      },
      "source": [
        "Function created to display the training and validation accuracy. (DLWP pg. 75)"
      ]
    },
    {
      "cell_type": "code",
      "metadata": {
        "id": "hHxamyJ1fm3r"
      },
      "source": [
        "import matplotlib.pyplot as plt\n",
        "\n",
        "# Function to plot the accuracy of the lastest network\n",
        "def plot_acc():\n",
        "\n",
        "  # function to clear current figure\n",
        "  plt.clf()\n",
        "\n",
        "  history_dict = history.history\n",
        "\n",
        "  # store values for each neccessary key in the dictionary\n",
        "  accuracy_values = history_dict['accuracy']\n",
        "  val_accuracy_values = history_dict['val_accuracy']\n",
        "\n",
        "  epochs = range(1, len(accuracy_values) + 1)\n",
        "\n",
        "  # format strings converter\n",
        "  blue_dotted = 'ob'\n",
        "  solid_blue_lines = '-b'\n",
        "\n",
        "  # plot training accuracy\n",
        "  plt.plot(epochs, accuracy_values, blue_dotted, label = 'Training accuracy')\n",
        "\n",
        "  # plot validation accuracy\n",
        "  plt.plot(epochs, val_accuracy_values, solid_blue_lines, label = 'Validation accuracy')\n",
        "\n",
        "  plt.title('Training and validation accuracy')\n",
        "  plt.xlabel('Epochs')\n",
        "  plt.ylabel('Accuracy')\n",
        "  plt.legend()\n",
        "\n",
        "  plt.show()\n"
      ],
      "execution_count": null,
      "outputs": []
    },
    {
      "cell_type": "code",
      "metadata": {
        "colab": {
          "base_uri": "https://localhost:8080/",
          "height": 295
        },
        "id": "f50jKO8JbDaP",
        "outputId": "8564ba53-7503-4f42-868f-6b7aaf8c328a"
      },
      "source": [
        "plot_acc()"
      ],
      "execution_count": null,
      "outputs": [
        {
          "output_type": "display_data",
          "data": {
            "image/png": "[encoded data removed]",
            "text/plain": [
              "<Figure size 432x288 with 1 Axes>"
            ]
          },
          "metadata": {
            "needs_background": "light"
          }
        }
      ]
    },
    {
      "cell_type": "markdown",
      "metadata": {
        "id": "1NryH65slw_8"
      },
      "source": [
        "The training loss decreased with every epoch and the training accuracy increased with every epoch. A reuslt of the training loop.\n",
        "\n",
        "We see a peak at the 8th epoch, accuracy is approximately 98% and loss is 0.0723 (2 d.p).\n",
        "\n",
        "Afterwards the validation loss and accruacy begins to worsen when compared to the training data. Here our model had over specialised to the training data.\n",
        "\n",
        "Our model peaked at 98% accuracy, meaning we have been successful in developing a model that surpasses the baseline accuracy of 10%, achieving *statistical power*.\n",
        "\n",
        "This has proven our hypothesises that outputs can be predicted from our inputs, that they have memorisable patterns that can be learnt by our model.\n",
        "\n",
        "Below is a table displaying these findings of our networks inital training."
      ]
    },
    {
      "cell_type": "markdown",
      "metadata": {
        "id": "h9reAdIkuwUL"
      },
      "source": [
        "\n",
        "|   Model # | Number of layers| Number of units| Result |\n",
        "|--------   | -----------     | -----------    |---------|\n",
        "| 1         |         2       | 512, 10 | achieved a high accuracy, circa 98%. Best loss was 0.0723 at the 8th epoch.  slight overfitting occured afterwards."
      ]
    },
    {
      "cell_type": "markdown",
      "metadata": {
        "id": "Z0l9a2pLnu8V"
      },
      "source": [
        "Below are functions created to find the maximum accuracy and minimum loss for a given dictonary key using the Numpy methods `argmax()` and `argmin()`.\n",
        "\n",
        "Further improvements to the code could include error handling for the `key` parameter."
      ]
    },
    {
      "cell_type": "code",
      "metadata": {
        "colab": {
          "base_uri": "https://localhost:8080/"
        },
        "id": "a_SHkKtSid2n",
        "outputId": "85c956a2-7d0d-433c-df2c-23044fbfa833"
      },
      "source": [
        "import numpy as np\n",
        "\n",
        "def get_largest_value(key):\n",
        "    largest_value_index = np.argmax(history_dict[key])\n",
        "    return history_dict[key][largest_value_index]\n",
        "\n",
        "get_largest_value('val_accuracy')"
      ],
      "execution_count": null,
      "outputs": [
        {
          "output_type": "execute_result",
          "data": {
            "text/plain": [
              "0.9829016923904419"
            ]
          },
          "metadata": {},
          "execution_count": 18
        }
      ]
    },
    {
      "cell_type": "code",
      "metadata": {
        "colab": {
          "base_uri": "https://localhost:8080/"
        },
        "id": "4VeNJcwrln8Y",
        "outputId": "68d6bfbf-a148-443a-c15e-08cc6ce6c528"
      },
      "source": [
        "def get_smallest_value(key):\n",
        "  smallest_value_index = np.argmin(history_dict[key])\n",
        "  return history_dict[key][smallest_value_index]\n",
        "\n",
        "\n",
        "get_smallest_value('val_loss')"
      ],
      "execution_count": null,
      "outputs": [
        {
          "output_type": "execute_result",
          "data": {
            "text/plain": [
              "0.07227687537670135"
            ]
          },
          "metadata": {},
          "execution_count": 19
        }
      ]
    },
    {
      "cell_type": "markdown",
      "metadata": {
        "id": "YuYscD_M21A6"
      },
      "source": [
        "### **Scaling up: developing a model that overfits**\n",
        "\n",
        "We had proven that our model is capable of achieving statistical power, now we must prove that our network has a sufficent architecture to handle the classification task at hand.\n",
        "\n",
        "From the inital traning of our model, we learnt that after 8 epochs, slight overfitting occured. Starting with 20 epochs and 512 units in the first layer provided us with information to prove we have the computational power for this task.\n",
        "\n",
        "However, we cannot be sure of this with only one model consisting of two layers, we will try another architecture to hopefully overfit a greater extent to prove we have the power to solve this task.\n",
        "\n",
        "The number of layers will increase, we will add an additional hidden layer.\n",
        "\n",
        "After finding our model sufficently powerful we can begin regularising our model and tuning hyperparameters to neither underfit or overfit.\n"
      ]
    },
    {
      "cell_type": "markdown",
      "metadata": {
        "id": "Yu4qxnAfb_l9"
      },
      "source": [
        "#### Model #2: Developing a model that overfits"
      ]
    },
    {
      "cell_type": "code",
      "metadata": {
        "colab": {
          "base_uri": "https://localhost:8080/"
        },
        "id": "Na6Tw0wHbwxR",
        "outputId": "f9cccabe-c345-4403-d4c8-d92e039bc3f1"
      },
      "source": [
        "# Build Model #2\n",
        "from tensorflow.keras import models, layers\n",
        "network = models.Sequential()\n",
        "\n",
        "network.add(layers.Dense(512, activation='relu', input_shape=(28 * 28, )))\n",
        "# additional hidden layer\n",
        "network.add(layers.Dense(512, activation='relu'))\n",
        "network.add(layers.Dense(10, activation='softmax'))\n",
        "\n",
        "network.compile(optimizer='rmsprop',\n",
        "               loss='categorical_crossentropy',\n",
        "               metrics=['accuracy'])\n",
        "\n",
        "network.summary()\n",
        "\n",
        "# train\n",
        "history = network.fit(train_images,\n",
        "                      train_labels,\n",
        "                      epochs=20,\n",
        "                      batch_size=128,\n",
        "                      validation_split = 0.166666666667)"
      ],
      "execution_count": null,
      "outputs": [
        {
          "output_type": "stream",
          "name": "stdout",
          "text": [
            "Model: \"sequential_6\"\n",
            "_________________________________________________________________\n",
            " Layer (type)                Output Shape              Param #   \n",
            "=================================================================\n",
            " dense_16 (Dense)            (None, 512)               401920    \n",
            "                                                                 \n",
            " dense_17 (Dense)            (None, 512)               262656    \n",
            "                                                                 \n",
            " dense_18 (Dense)            (None, 10)                5130      \n",
            "                                                                 \n",
            "=================================================================\n",
            "Total params: 669,706\n",
            "Trainable params: 669,706\n",
            "Non-trainable params: 0\n",
            "_________________________________________________________________\n",
            "Epoch 1/20\n",
            "391/391 [==============================] - 9s 20ms/step - loss: 0.2415 - accuracy: 0.9242 - val_loss: 0.1181 - val_accuracy: 0.9657\n",
            "Epoch 2/20\n",
            "391/391 [==============================] - 8s 20ms/step - loss: 0.0890 - accuracy: 0.9724 - val_loss: 0.0922 - val_accuracy: 0.9716\n",
            "Epoch 3/20\n",
            "391/391 [==============================] - 8s 19ms/step - loss: 0.0555 - accuracy: 0.9829 - val_loss: 0.0927 - val_accuracy: 0.9757\n",
            "Epoch 4/20\n",
            "391/391 [==============================] - 8s 20ms/step - loss: 0.0405 - accuracy: 0.9875 - val_loss: 0.1047 - val_accuracy: 0.9734\n",
            "Epoch 5/20\n",
            "391/391 [==============================] - 8s 19ms/step - loss: 0.0303 - accuracy: 0.9907 - val_loss: 0.1250 - val_accuracy: 0.9713\n",
            "Epoch 6/20\n",
            "391/391 [==============================] - 8s 19ms/step - loss: 0.0223 - accuracy: 0.9927 - val_loss: 0.1074 - val_accuracy: 0.9785\n",
            "Epoch 7/20\n",
            "391/391 [==============================] - 8s 19ms/step - loss: 0.0174 - accuracy: 0.9938 - val_loss: 0.1045 - val_accuracy: 0.9802\n",
            "Epoch 8/20\n",
            "391/391 [==============================] - 7s 19ms/step - loss: 0.0151 - accuracy: 0.9954 - val_loss: 0.1226 - val_accuracy: 0.9759\n",
            "Epoch 9/20\n",
            "391/391 [==============================] - 8s 19ms/step - loss: 0.0135 - accuracy: 0.9957 - val_loss: 0.1429 - val_accuracy: 0.9776\n",
            "Epoch 10/20\n",
            "391/391 [==============================] - 8s 19ms/step - loss: 0.0113 - accuracy: 0.9967 - val_loss: 0.1381 - val_accuracy: 0.9790\n",
            "Epoch 11/20\n",
            "391/391 [==============================] - 8s 19ms/step - loss: 0.0100 - accuracy: 0.9970 - val_loss: 0.1436 - val_accuracy: 0.9798\n",
            "Epoch 12/20\n",
            "391/391 [==============================] - 7s 19ms/step - loss: 0.0072 - accuracy: 0.9977 - val_loss: 0.1352 - val_accuracy: 0.9821\n",
            "Epoch 13/20\n",
            "391/391 [==============================] - 7s 19ms/step - loss: 0.0073 - accuracy: 0.9980 - val_loss: 0.1518 - val_accuracy: 0.9811\n",
            "Epoch 14/20\n",
            "391/391 [==============================] - 8s 19ms/step - loss: 0.0061 - accuracy: 0.9980 - val_loss: 0.1567 - val_accuracy: 0.9807\n",
            "Epoch 15/20\n",
            "391/391 [==============================] - 7s 19ms/step - loss: 0.0067 - accuracy: 0.9982 - val_loss: 0.1793 - val_accuracy: 0.9787\n",
            "Epoch 16/20\n",
            "391/391 [==============================] - 8s 20ms/step - loss: 0.0066 - accuracy: 0.9982 - val_loss: 0.1869 - val_accuracy: 0.9804\n",
            "Epoch 17/20\n",
            "391/391 [==============================] - 7s 19ms/step - loss: 0.0064 - accuracy: 0.9982 - val_loss: 0.1634 - val_accuracy: 0.9822\n",
            "Epoch 18/20\n",
            "391/391 [==============================] - 8s 20ms/step - loss: 0.0063 - accuracy: 0.9984 - val_loss: 0.1764 - val_accuracy: 0.9805\n",
            "Epoch 19/20\n",
            "391/391 [==============================] - 8s 19ms/step - loss: 0.0046 - accuracy: 0.9986 - val_loss: 0.2277 - val_accuracy: 0.9786\n",
            "Epoch 20/20\n",
            "391/391 [==============================] - 8s 19ms/step - loss: 0.0059 - accuracy: 0.9984 - val_loss: 0.2105 - val_accuracy: 0.9777\n"
          ]
        }
      ]
    },
    {
      "cell_type": "markdown",
      "metadata": {
        "id": "BWq2fyiP8Ucy"
      },
      "source": [
        "Plotting the loss of the scaled-up model"
      ]
    },
    {
      "cell_type": "code",
      "metadata": {
        "colab": {
          "base_uri": "https://localhost:8080/",
          "height": 295
        },
        "id": "B_KvPHXr8y4P",
        "outputId": "df0eb110-bef9-421f-ce87-3f70c4dc0fc3"
      },
      "source": [
        "plot_loss()"
      ],
      "execution_count": null,
      "outputs": [
        {
          "output_type": "display_data",
          "data": {
            "image/png": "[encoded data removed]",
            "text/plain": [
              "<Figure size 432x288 with 1 Axes>"
            ]
          },
          "metadata": {
            "needs_background": "light"
          }
        }
      ]
    },
    {
      "cell_type": "markdown",
      "metadata": {
        "id": "b2PTU5z99WK8"
      },
      "source": [
        "Plotting the accuracy of the scaled-up model"
      ]
    },
    {
      "cell_type": "code",
      "metadata": {
        "colab": {
          "base_uri": "https://localhost:8080/",
          "height": 295
        },
        "id": "GPbAC3BG9cBT",
        "outputId": "e1adfc3c-7e35-451c-a2ca-82b1c51b4ae8"
      },
      "source": [
        "plot_acc()"
      ],
      "execution_count": null,
      "outputs": [
        {
          "output_type": "display_data",
          "data": {
            "image/png": "[encoded data removed]",
            "text/plain": [
              "<Figure size 432x288 with 1 Axes>"
            ]
          },
          "metadata": {
            "needs_background": "light"
          }
        }
      ]
    },
    {
      "cell_type": "markdown",
      "metadata": {
        "id": "0ZfZoN7e9pgW"
      },
      "source": [
        "When scaling up our model we were able to see much more severe overfitting in our validation loss compared to Model #1. We have proven we have the optimisation capabilites for this problem.\n",
        "\n",
        "However, our overall goal is to find the best model, that is most optimised and most general. From how servere the overfitting was in this model we have learnt that having more layers is not effective in terms of finding the best architecture for this problem.\n",
        "\n",
        "Below is the table of findings from Model #2 compared to that of Model #3.\n",
        "\n",
        "\n"
      ]
    },
    {
      "cell_type": "markdown",
      "metadata": {
        "id": "dH4ks8NxjMrv"
      },
      "source": [
        "| Model #   | Number of layers | Number of units/layer | Results\n",
        "| ----------| -----------| -------- | -------- |  \n",
        "| 1      |    2    |512, 10 | achieved a high accuracy, circa 98%. Best loss was 0.0723 at the 8th epoch.  slight overfitting occured afterwards. |\n",
        "| 2   | 3        | 512, 512, 10 | best accuracy, circa 98%. Best loss, circa 0.0922. Began overfitting almost imediately, drastically step incline."
      ]
    },
    {
      "cell_type": "markdown",
      "metadata": {
        "id": "1PUSinYVEX44"
      },
      "source": [
        "### **Regularising the model and tuning hyperparameters**\n",
        "\n",
        "To  fight the problem of overfitting, reaching our optimum model, we will implement models with regularisation and tune hyperparameters.\n",
        "\n",
        "For our model(s) and the problem at hand, the MNIST handwritten digits, the following hyperparameters will be adjusted repeatidly:\n",
        "\n",
        "*   The number of units per layer\n",
        "*   The learning rates of the given optimiser\n",
        "*   The activation function configuration\n",
        "\n",
        "We will evaluate results, investigating which architecture  yields the highest validation accuracy, optimum, not underfitting or overfitting.\n",
        "\n",
        "The proven optimal network architecutre will then be tested on the compleletely unseen test data and we will record the test accuracy and our findings.\n",
        "\n",
        "\n"
      ]
    },
    {
      "cell_type": "markdown",
      "metadata": {
        "id": "Q8gkU-LjRzjb"
      },
      "source": [
        "As we are currently overfitting I will start by using Model #1 and reducing the number of units per layer.\n",
        "\n",
        "I believe the task at hand does not require the amount of learnable paramaters afforded previously. The model has the memorisation capacity to learn highly specific patterns on the training data, including noise that is not neccessary in making correct prediction **generally**. This would explain the drastic overfitting in the validation loss when trying to apply these patterns to unseen data.\n",
        "\n",
        "I hope to reduce the number of units to an amount does not have the memorisation capacity to overfit. However, it must have enough memorisation capacity to learn meaningful patterns and not underift.\n",
        "\n",
        "In the following model the input layers number of units will be changed from 512 to 256.\n",
        "\n"
      ]
    },
    {
      "cell_type": "markdown",
      "metadata": {
        "id": "i4_w_KxaqRzG"
      },
      "source": [
        "#### Model #3: Less units per layer (256)"
      ]
    },
    {
      "cell_type": "code",
      "metadata": {
        "colab": {
          "base_uri": "https://localhost:8080/"
        },
        "id": "d5IFAW7oZwnq",
        "outputId": "bdc59282-0ea8-446b-f185-3be0f3e04fca"
      },
      "source": [
        "# build Model #3\n",
        "from tensorflow.keras import models, layers\n",
        "network = models.Sequential()\n",
        "\n",
        "# changed number of units (input layer)\n",
        "network.add(layers.Dense(256, activation='relu', input_shape=(28 * 28, )))\n",
        "network.add(layers.Dense(10, activation='softmax'))\n",
        "\n",
        "network.compile(optimizer='rmsprop',\n",
        "               loss='categorical_crossentropy',\n",
        "               metrics=['accuracy'])\n",
        "\n",
        "# display network capactiy\n",
        "network.summary()\n",
        "\n",
        "# train\n",
        "history = network.fit(train_images,\n",
        "                      train_labels,\n",
        "                      epochs=20,\n",
        "                      batch_size=128,\n",
        "                      validation_split = 0.166666666667)"
      ],
      "execution_count": null,
      "outputs": [
        {
          "output_type": "stream",
          "name": "stdout",
          "text": [
            "Model: \"sequential_7\"\n",
            "_________________________________________________________________\n",
            " Layer (type)                Output Shape              Param #   \n",
            "=================================================================\n",
            " dense_19 (Dense)            (None, 256)               200960    \n",
            "                                                                 \n",
            " dense_20 (Dense)            (None, 10)                2570      \n",
            "                                                                 \n",
            "=================================================================\n",
            "Total params: 203,530\n",
            "Trainable params: 203,530\n",
            "Non-trainable params: 0\n",
            "_________________________________________________________________\n",
            "Epoch 1/20\n",
            "391/391 [==============================] - 4s 9ms/step - loss: 0.3190 - accuracy: 0.9095 - val_loss: 0.1773 - val_accuracy: 0.9537\n",
            "Epoch 2/20\n",
            "391/391 [==============================] - 3s 9ms/step - loss: 0.1407 - accuracy: 0.9597 - val_loss: 0.1226 - val_accuracy: 0.9656\n",
            "Epoch 3/20\n",
            "391/391 [==============================] - 3s 9ms/step - loss: 0.0956 - accuracy: 0.9723 - val_loss: 0.0968 - val_accuracy: 0.9724\n",
            "Epoch 4/20\n",
            "391/391 [==============================] - 4s 9ms/step - loss: 0.0710 - accuracy: 0.9793 - val_loss: 0.0904 - val_accuracy: 0.9743\n",
            "Epoch 5/20\n",
            "391/391 [==============================] - 3s 9ms/step - loss: 0.0551 - accuracy: 0.9837 - val_loss: 0.0842 - val_accuracy: 0.9760\n",
            "Epoch 6/20\n",
            "391/391 [==============================] - 3s 9ms/step - loss: 0.0435 - accuracy: 0.9870 - val_loss: 0.0800 - val_accuracy: 0.9761\n",
            "Epoch 7/20\n",
            "391/391 [==============================] - 4s 9ms/step - loss: 0.0355 - accuracy: 0.9898 - val_loss: 0.0780 - val_accuracy: 0.9779\n",
            "Epoch 8/20\n",
            "391/391 [==============================] - 3s 9ms/step - loss: 0.0287 - accuracy: 0.9921 - val_loss: 0.0778 - val_accuracy: 0.9797\n",
            "Epoch 9/20\n",
            "391/391 [==============================] - 3s 8ms/step - loss: 0.0228 - accuracy: 0.9936 - val_loss: 0.0903 - val_accuracy: 0.9770\n",
            "Epoch 10/20\n",
            "391/391 [==============================] - 3s 8ms/step - loss: 0.0182 - accuracy: 0.9952 - val_loss: 0.0794 - val_accuracy: 0.9786\n",
            "Epoch 11/20\n",
            "391/391 [==============================] - 3s 8ms/step - loss: 0.0151 - accuracy: 0.9957 - val_loss: 0.0903 - val_accuracy: 0.9794\n",
            "Epoch 12/20\n",
            "391/391 [==============================] - 3s 8ms/step - loss: 0.0123 - accuracy: 0.9970 - val_loss: 0.0888 - val_accuracy: 0.9785\n",
            "Epoch 13/20\n",
            "391/391 [==============================] - 3s 8ms/step - loss: 0.0097 - accuracy: 0.9976 - val_loss: 0.0821 - val_accuracy: 0.9796\n",
            "Epoch 14/20\n",
            "391/391 [==============================] - 3s 8ms/step - loss: 0.0082 - accuracy: 0.9982 - val_loss: 0.0836 - val_accuracy: 0.9812\n",
            "Epoch 15/20\n",
            "391/391 [==============================] - 3s 8ms/step - loss: 0.0063 - accuracy: 0.9987 - val_loss: 0.0939 - val_accuracy: 0.9795\n",
            "Epoch 16/20\n",
            "391/391 [==============================] - 3s 8ms/step - loss: 0.0052 - accuracy: 0.9987 - val_loss: 0.0960 - val_accuracy: 0.9791\n",
            "Epoch 17/20\n",
            "391/391 [==============================] - 3s 8ms/step - loss: 0.0041 - accuracy: 0.9991 - val_loss: 0.0897 - val_accuracy: 0.9803\n",
            "Epoch 18/20\n",
            "391/391 [==============================] - 3s 8ms/step - loss: 0.0032 - accuracy: 0.9992 - val_loss: 0.0928 - val_accuracy: 0.9813\n",
            "Epoch 19/20\n",
            "391/391 [==============================] - 3s 8ms/step - loss: 0.0026 - accuracy: 0.9994 - val_loss: 0.1007 - val_accuracy: 0.9802\n",
            "Epoch 20/20\n",
            "391/391 [==============================] - 3s 8ms/step - loss: 0.0021 - accuracy: 0.9994 - val_loss: 0.1065 - val_accuracy: 0.9797\n"
          ]
        }
      ]
    },
    {
      "cell_type": "code",
      "metadata": {
        "colab": {
          "base_uri": "https://localhost:8080/",
          "height": 295
        },
        "id": "gTKXvb-aaqiX",
        "outputId": "66d794bf-c019-48f9-b7f4-671b4749e406"
      },
      "source": [
        "plot_loss()"
      ],
      "execution_count": null,
      "outputs": [
        {
          "output_type": "display_data",
          "data": {
            "image/png": "[encoded data removed]",
            "text/plain": [
              "<Figure size 432x288 with 1 Axes>"
            ]
          },
          "metadata": {
            "needs_background": "light"
          }
        }
      ]
    },
    {
      "cell_type": "code",
      "metadata": {
        "colab": {
          "base_uri": "https://localhost:8080/",
          "height": 295
        },
        "id": "_6ArxqiXq5i2",
        "outputId": "b3526eda-e8c4-454c-b406-55f238d5d030"
      },
      "source": [
        "plot_acc()"
      ],
      "execution_count": null,
      "outputs": [
        {
          "output_type": "display_data",
          "data": {
            "image/png": "[encoded data removed]",
            "text/plain": [
              "<Figure size 432x288 with 1 Axes>"
            ]
          },
          "metadata": {
            "needs_background": "light"
          }
        }
      ]
    },
    {
      "cell_type": "markdown",
      "metadata": {
        "id": "1DHsYjWfrUcV"
      },
      "source": [
        "We have found that reducing the number of units per layer has provided us with a decrease in overfitting when compared to Model #2. The best accuracy is 98% and the best loss is 0.0778.\n",
        "\n",
        "The validation loss is much closer to the training loss and the overfitting that is present is not as drastic.\n",
        "\n",
        " When using the `model.summary()` method, we can see that Model #2 had a total of 669,706 trainable paramaters, where Model #3, that overfits less, had 203,530. This may be the reason for this difference in overfitting performance.\n",
        "\n",
        " Below is a table recording our results, with the added column to compare the amount of trainable parameters."
      ]
    },
    {
      "cell_type": "markdown",
      "metadata": {
        "id": "ezj_khVftklV"
      },
      "source": [
        "| Model #   | Number of layers | Number of units/layer | Trainable parameters | Results  \n",
        "| ----------| -----------| -------- | -------- | ------- |  \n",
        "| 1      |    2    | 512, 10 |407,050 | achieved a high accuracy, circa 98%. Best loss was 0.0723 at the 8th epoch.  slight overfitting occured afterwards. |\n",
        "| 2   | 3        | 669,706 | 512, 512, 10 | best accuracy, circa 98%. Best loss, circa 0.0922. Began overfitting almost imediately, drastically step incline.\n",
        "|3 | 2 | 256, 10 | 203,530 | Best accuracy, circa 98% Best loss, circa 0.0778. Very slight overfitting experienced."
      ]
    },
    {
      "cell_type": "markdown",
      "metadata": {
        "id": "1xbAKYbdu7oO"
      },
      "source": [
        "To further investigate this balance of memorisation capacity, we will change the number of units to 128. We will investigate if Model #3 (256) is the best model for our problem or not."
      ]
    },
    {
      "cell_type": "markdown",
      "metadata": {
        "id": "tqsR0ky6vXPi"
      },
      "source": [
        "#### Model #4: Less units per layer (128)"
      ]
    },
    {
      "cell_type": "code",
      "metadata": {
        "colab": {
          "base_uri": "https://localhost:8080/"
        },
        "id": "BWK-fquPvWFG",
        "outputId": "dcac6f25-8e8c-477b-d74b-aef2391edaeb"
      },
      "source": [
        "# build Model #4\n",
        "from tensorflow.keras import models, layers\n",
        "network = models.Sequential()\n",
        "\n",
        "# changed number of units (input layer)\n",
        "network.add(layers.Dense(128, activation='relu', input_shape=(28 * 28, )))\n",
        "network.add(layers.Dense(10, activation='softmax'))\n",
        "\n",
        "network.compile(optimizer='rmsprop',\n",
        "               loss='categorical_crossentropy',\n",
        "               metrics=['accuracy'])\n",
        "\n",
        "# display network capactiy\n",
        "network.summary()\n",
        "\n",
        "# train\n",
        "history = network.fit(train_images,\n",
        "                      train_labels,\n",
        "                      epochs=20,\n",
        "                      batch_size=128,\n",
        "                      validation_split = 0.166666666667)"
      ],
      "execution_count": null,
      "outputs": [
        {
          "output_type": "stream",
          "name": "stdout",
          "text": [
            "Model: \"sequential_10\"\n",
            "_________________________________________________________________\n",
            " Layer (type)                Output Shape              Param #   \n",
            "=================================================================\n",
            " dense_25 (Dense)            (None, 128)               100480    \n",
            "                                                                 \n",
            " dense_26 (Dense)            (None, 10)                1290      \n",
            "                                                                 \n",
            "=================================================================\n",
            "Total params: 101,770\n",
            "Trainable params: 101,770\n",
            "Non-trainable params: 0\n",
            "_________________________________________________________________\n",
            "Epoch 1/20\n",
            "391/391 [==============================] - 3s 6ms/step - loss: 0.3489 - accuracy: 0.9047 - val_loss: 0.1941 - val_accuracy: 0.9486\n",
            "Epoch 2/20\n",
            "391/391 [==============================] - 2s 6ms/step - loss: 0.1708 - accuracy: 0.9500 - val_loss: 0.1426 - val_accuracy: 0.9605\n",
            "Epoch 3/20\n",
            "391/391 [==============================] - 2s 6ms/step - loss: 0.1236 - accuracy: 0.9646 - val_loss: 0.1190 - val_accuracy: 0.9660\n",
            "Epoch 4/20\n",
            "391/391 [==============================] - 2s 6ms/step - loss: 0.0966 - accuracy: 0.9718 - val_loss: 0.0986 - val_accuracy: 0.9711\n",
            "Epoch 5/20\n",
            "391/391 [==============================] - 2s 6ms/step - loss: 0.0780 - accuracy: 0.9766 - val_loss: 0.0941 - val_accuracy: 0.9735\n",
            "Epoch 6/20\n",
            "391/391 [==============================] - 2s 5ms/step - loss: 0.0656 - accuracy: 0.9811 - val_loss: 0.0940 - val_accuracy: 0.9724\n",
            "Epoch 7/20\n",
            "391/391 [==============================] - 2s 6ms/step - loss: 0.0559 - accuracy: 0.9835 - val_loss: 0.0857 - val_accuracy: 0.9743\n",
            "Epoch 8/20\n",
            "391/391 [==============================] - 2s 5ms/step - loss: 0.0477 - accuracy: 0.9865 - val_loss: 0.0786 - val_accuracy: 0.9761\n",
            "Epoch 9/20\n",
            "391/391 [==============================] - 2s 5ms/step - loss: 0.0409 - accuracy: 0.9886 - val_loss: 0.0846 - val_accuracy: 0.9773\n",
            "Epoch 10/20\n",
            "391/391 [==============================] - 2s 6ms/step - loss: 0.0357 - accuracy: 0.9900 - val_loss: 0.0826 - val_accuracy: 0.9766\n",
            "Epoch 11/20\n",
            "391/391 [==============================] - 2s 6ms/step - loss: 0.0310 - accuracy: 0.9915 - val_loss: 0.0831 - val_accuracy: 0.9755\n",
            "Epoch 12/20\n",
            "391/391 [==============================] - 2s 5ms/step - loss: 0.0273 - accuracy: 0.9924 - val_loss: 0.0851 - val_accuracy: 0.9771\n",
            "Epoch 13/20\n",
            "391/391 [==============================] - 2s 6ms/step - loss: 0.0233 - accuracy: 0.9937 - val_loss: 0.0846 - val_accuracy: 0.9770\n",
            "Epoch 14/20\n",
            "391/391 [==============================] - 2s 6ms/step - loss: 0.0203 - accuracy: 0.9946 - val_loss: 0.0844 - val_accuracy: 0.9768\n",
            "Epoch 15/20\n",
            "391/391 [==============================] - 2s 6ms/step - loss: 0.0174 - accuracy: 0.9959 - val_loss: 0.0836 - val_accuracy: 0.9782\n",
            "Epoch 16/20\n",
            "391/391 [==============================] - 2s 6ms/step - loss: 0.0151 - accuracy: 0.9964 - val_loss: 0.0882 - val_accuracy: 0.9774\n",
            "Epoch 17/20\n",
            "391/391 [==============================] - 2s 6ms/step - loss: 0.0131 - accuracy: 0.9970 - val_loss: 0.0857 - val_accuracy: 0.9780\n",
            "Epoch 18/20\n",
            "391/391 [==============================] - 2s 6ms/step - loss: 0.0114 - accuracy: 0.9974 - val_loss: 0.0926 - val_accuracy: 0.9777\n",
            "Epoch 19/20\n",
            "391/391 [==============================] - 2s 5ms/step - loss: 0.0093 - accuracy: 0.9980 - val_loss: 0.0906 - val_accuracy: 0.9777\n",
            "Epoch 20/20\n",
            "391/391 [==============================] - 2s 5ms/step - loss: 0.0084 - accuracy: 0.9979 - val_loss: 0.0926 - val_accuracy: 0.9784\n"
          ]
        }
      ]
    },
    {
      "cell_type": "code",
      "metadata": {
        "colab": {
          "base_uri": "https://localhost:8080/",
          "height": 295
        },
        "id": "Pi3MJC6dwGpm",
        "outputId": "a68b77a1-eb7a-4b1f-866b-59508d3c306d"
      },
      "source": [
        "plot_loss()"
      ],
      "execution_count": null,
      "outputs": [
        {
          "output_type": "display_data",
          "data": {
            "image/png": "[encoded data removed]",
            "text/plain": [
              "<Figure size 432x288 with 1 Axes>"
            ]
          },
          "metadata": {
            "needs_background": "light"
          }
        }
      ]
    },
    {
      "cell_type": "code",
      "metadata": {
        "colab": {
          "base_uri": "https://localhost:8080/",
          "height": 295
        },
        "id": "_k2SqMStwaDF",
        "outputId": "cbe85a9f-21c3-46f5-9b28-e22ff8d0feec"
      },
      "source": [
        "plot_acc()"
      ],
      "execution_count": null,
      "outputs": [
        {
          "output_type": "display_data",
          "data": {
            "image/png": "[encoded data removed]",
            "text/plain": [
              "<Figure size 432x288 with 1 Axes>"
            ]
          },
          "metadata": {
            "needs_background": "light"
          }
        }
      ]
    },
    {
      "cell_type": "markdown",
      "metadata": {
        "id": "C0Hrwglxwc6Q"
      },
      "source": [
        "With 128 units per layer we are seeing even less trainable parameters and potenially getting close to optimal number of units before we begin underfitting. We do not want to restrict our networks ability to memorise patterns completely.\n",
        "\n",
        "We will tune the number of paramaters one more time to confirm our optimal number of units.\n",
        "\n",
        "Below is our continued comparison of networks."
      ]
    },
    {
      "cell_type": "markdown",
      "metadata": {
        "id": "LWxo6DXxwtBY"
      },
      "source": [
        "| Model #   | Number of layers | Number of units/layer | Trainable parameters | Results  \n",
        "| ----------| -----------| -------- | -------- | ------- |  \n",
        "| 1      |    2    | 512, 10 |407,050 |  Best accurarcy, circa 98%. Best loss was 0.0723 at the 8th epoch.  slight overfitting occured afterwards. |\n",
        "| 2   | 3        | 669,706 | 512, 512, 10 | best accuracy, circa 98%. Best loss, circa 0.0922. Began overfitting almost imediately, drastically step incline.\n",
        "|3 | 2 | 256, 10 | 203,530 | Best accuracy, circa 98% Best loss, circa 0.0778. After 8th epoch very slight overfitting experienced.\n",
        "|4 | 2 | 128, 10 | 101,770 | Best accuracy, circa 98%. Best loss, circa 0.0786. Minimal overfitting experienced."
      ]
    },
    {
      "cell_type": "markdown",
      "metadata": {
        "id": "yR_2IBIbyjqr"
      },
      "source": [
        "Our final experiment on the hyperparameter: number of units, will have a network with 64 units in its input layer. I expect to see the model either underfit as it is beginging to have a minimal number of traninable units to learn patterns with."
      ]
    },
    {
      "cell_type": "markdown",
      "metadata": {
        "id": "5HKQylZry5J_"
      },
      "source": [
        "#### Model #5: Less units per layer (64)"
      ]
    },
    {
      "cell_type": "code",
      "metadata": {
        "colab": {
          "base_uri": "https://localhost:8080/"
        },
        "id": "INYLT7Wwy3SM",
        "outputId": "4d6d50d9-eae1-4cf0-9669-ad4a82fd0a9d"
      },
      "source": [
        "# build Model #5\n",
        "from tensorflow.keras import models, layers\n",
        "network = models.Sequential()\n",
        "\n",
        "# changed number of units (input layer)\n",
        "network.add(layers.Dense(64, activation='relu', input_shape=(28 * 28, )))\n",
        "network.add(layers.Dense(10, activation='softmax'))\n",
        "\n",
        "network.compile(optimizer='rmsprop',\n",
        "               loss='categorical_crossentropy',\n",
        "               metrics=['accuracy'])\n",
        "\n",
        "# display network capactiy\n",
        "network.summary()\n",
        "\n",
        "# train\n",
        "history = network.fit(train_images,\n",
        "                      train_labels,\n",
        "                      epochs=20,\n",
        "                      batch_size=128,\n",
        "                      validation_split = 0.166666666667)"
      ],
      "execution_count": null,
      "outputs": [
        {
          "output_type": "stream",
          "name": "stdout",
          "text": [
            "Model: \"sequential_11\"\n",
            "_________________________________________________________________\n",
            " Layer (type)                Output Shape              Param #   \n",
            "=================================================================\n",
            " dense_27 (Dense)            (None, 64)                50240     \n",
            "                                                                 \n",
            " dense_28 (Dense)            (None, 10)                650       \n",
            "                                                                 \n",
            "=================================================================\n",
            "Total params: 50,890\n",
            "Trainable params: 50,890\n",
            "Non-trainable params: 0\n",
            "_________________________________________________________________\n",
            "Epoch 1/20\n",
            "391/391 [==============================] - 3s 5ms/step - loss: 0.4269 - accuracy: 0.8844 - val_loss: 0.2409 - val_accuracy: 0.9330\n",
            "Epoch 2/20\n",
            "391/391 [==============================] - 2s 5ms/step - loss: 0.2246 - accuracy: 0.9361 - val_loss: 0.1844 - val_accuracy: 0.9506\n",
            "Epoch 3/20\n",
            "391/391 [==============================] - 2s 4ms/step - loss: 0.1749 - accuracy: 0.9502 - val_loss: 0.1564 - val_accuracy: 0.9561\n",
            "Epoch 4/20\n",
            "391/391 [==============================] - 2s 5ms/step - loss: 0.1445 - accuracy: 0.9583 - val_loss: 0.1356 - val_accuracy: 0.9610\n",
            "Epoch 5/20\n",
            "391/391 [==============================] - 2s 5ms/step - loss: 0.1226 - accuracy: 0.9651 - val_loss: 0.1225 - val_accuracy: 0.9641\n",
            "Epoch 6/20\n",
            "391/391 [==============================] - 2s 5ms/step - loss: 0.1059 - accuracy: 0.9695 - val_loss: 0.1166 - val_accuracy: 0.9653\n",
            "Epoch 7/20\n",
            "391/391 [==============================] - 2s 5ms/step - loss: 0.0928 - accuracy: 0.9735 - val_loss: 0.1094 - val_accuracy: 0.9683\n",
            "Epoch 8/20\n",
            "391/391 [==============================] - 2s 4ms/step - loss: 0.0831 - accuracy: 0.9767 - val_loss: 0.1114 - val_accuracy: 0.9679\n",
            "Epoch 9/20\n",
            "391/391 [==============================] - 2s 5ms/step - loss: 0.0749 - accuracy: 0.9785 - val_loss: 0.1042 - val_accuracy: 0.9693\n",
            "Epoch 10/20\n",
            "391/391 [==============================] - 2s 5ms/step - loss: 0.0684 - accuracy: 0.9802 - val_loss: 0.1046 - val_accuracy: 0.9683\n",
            "Epoch 11/20\n",
            "391/391 [==============================] - 2s 4ms/step - loss: 0.0617 - accuracy: 0.9825 - val_loss: 0.0971 - val_accuracy: 0.9716\n",
            "Epoch 12/20\n",
            "391/391 [==============================] - 2s 5ms/step - loss: 0.0568 - accuracy: 0.9837 - val_loss: 0.0945 - val_accuracy: 0.9730\n",
            "Epoch 13/20\n",
            "391/391 [==============================] - 2s 4ms/step - loss: 0.0521 - accuracy: 0.9852 - val_loss: 0.0980 - val_accuracy: 0.9713\n",
            "Epoch 14/20\n",
            "391/391 [==============================] - 2s 5ms/step - loss: 0.0477 - accuracy: 0.9869 - val_loss: 0.0949 - val_accuracy: 0.9740\n",
            "Epoch 15/20\n",
            "391/391 [==============================] - 2s 5ms/step - loss: 0.0440 - accuracy: 0.9876 - val_loss: 0.1034 - val_accuracy: 0.9717\n",
            "Epoch 16/20\n",
            "391/391 [==============================] - 2s 4ms/step - loss: 0.0409 - accuracy: 0.9883 - val_loss: 0.0982 - val_accuracy: 0.9738\n",
            "Epoch 17/20\n",
            "391/391 [==============================] - 2s 5ms/step - loss: 0.0378 - accuracy: 0.9893 - val_loss: 0.0999 - val_accuracy: 0.9733\n",
            "Epoch 18/20\n",
            "391/391 [==============================] - 2s 4ms/step - loss: 0.0352 - accuracy: 0.9904 - val_loss: 0.0984 - val_accuracy: 0.9736\n",
            "Epoch 19/20\n",
            "391/391 [==============================] - 2s 4ms/step - loss: 0.0326 - accuracy: 0.9913 - val_loss: 0.0967 - val_accuracy: 0.9743\n",
            "Epoch 20/20\n",
            "391/391 [==============================] - 2s 4ms/step - loss: 0.0301 - accuracy: 0.9922 - val_loss: 0.1010 - val_accuracy: 0.9721\n"
          ]
        }
      ]
    },
    {
      "cell_type": "code",
      "metadata": {
        "colab": {
          "base_uri": "https://localhost:8080/",
          "height": 295
        },
        "id": "_OBmCM1KztJe",
        "outputId": "584b7b3c-735e-4bb6-e906-24e6feac5c3b"
      },
      "source": [
        "plot_loss()"
      ],
      "execution_count": null,
      "outputs": [
        {
          "output_type": "display_data",
          "data": {
            "image/png": "[encoded data removed]",
            "text/plain": [
              "<Figure size 432x288 with 1 Axes>"
            ]
          },
          "metadata": {
            "needs_background": "light"
          }
        }
      ]
    },
    {
      "cell_type": "code",
      "metadata": {
        "colab": {
          "base_uri": "https://localhost:8080/",
          "height": 295
        },
        "id": "pmlUoBQxz6BX",
        "outputId": "e92e7567-1c9a-4260-b00c-71eebb3fef41"
      },
      "source": [
        "plot_acc()"
      ],
      "execution_count": null,
      "outputs": [
        {
          "output_type": "display_data",
          "data": {
            "image/png": "[encoded data removed]",
            "text/plain": [
              "<Figure size 432x288 with 1 Axes>"
            ]
          },
          "metadata": {
            "needs_background": "light"
          }
        }
      ]
    },
    {
      "cell_type": "markdown",
      "metadata": {
        "id": "EM8CBBo-0OGL"
      },
      "source": [
        "The key takeaways are that the accuracy has decreased from its constant 98% throughout models to 97%. The peak Loss also increases to 0.0949. A very slight change, But this could be an indicator that we are losing the ability to memorise patterns with this model to the same level.\n",
        "\n",
        "The best model to refer to is Model #4 for the optimum configuration for this hyperparameter. Model #4 has a lower loss than Model #5 and still overfits minimally. As seen in the table below"
      ]
    },
    {
      "cell_type": "markdown",
      "metadata": {
        "id": "H-BdfFFY0ae2"
      },
      "source": [
        "| Model #   | Number of layers | Number of units/layer | Trainable parameters | Results  \n",
        "| ----------| -----------| -------- | -------- | ------- |  \n",
        "| 1      |    2    | 512, 10 |407,050 |  Best accurarcy, circa 98%. Best loss was 0.0723 at the 8th epoch.  slight overfitting occured afterwards. |\n",
        "| 2   | 3        | 669,706 | 512, 512, 10 | Best accuracy, circa 98%. Best loss, circa 0.0922. Began overfitting almost imediately, drastically step incline.\n",
        "|3 | 2 | 256, 10 | 203,530 | Best accuracy, circa 98% Best loss, circa 0.0778. After 8th epoch very slight overfitting experienced.\n",
        "|4 | 2 | 128, 10 | 101,770 | Best accuracy, circa 98%. Best loss, circa 0.0786. Minimal overfitting experienced.\n",
        "|5 | 2 | 64, 10 | 50,890 | Best Accuracy, circa 78%. Best loss circa, 0.0949. Slightly lower accuracy, next to no overfitting"
      ]
    },
    {
      "cell_type": "markdown",
      "metadata": {
        "id": "7FO0dxfa23C7"
      },
      "source": [
        "The next hyperpararmeter to experiment with is the learning rate of the optimiser, RMSProp. The learning rate changes how many steps it takes to go down the gradient of loss values.\n",
        "\n",
        "DWLP recommends us to use the default learning rate for RMSProp, which is 0.001 [`learning_rate = 0.001`]. We will experiment if this is the best learnig rate by comparing Model #4 (128), which uses the default learning rate of 0.01. Using the results from this experiment we will determine what interval to use next.\n",
        "\n",
        "A learning rate that is too large will take too great steps and miss potential minimums in the loss gradient. However, when a learning rate that is too small. It will take a longer amount of time to be executed. We will investigate into this balance of the learning_rate."
      ]
    },
    {
      "cell_type": "markdown",
      "metadata": {
        "id": "ltUbSoyV4tNT"
      },
      "source": [
        "#### Model #6: Adjusting Learning rate (0.01)"
      ]
    },
    {
      "cell_type": "code",
      "metadata": {
        "colab": {
          "base_uri": "https://localhost:8080/"
        },
        "id": "Bmpjj33X9CGG",
        "outputId": "43a780c0-0ebb-4d27-8c58-7da8b62530a6"
      },
      "source": [
        "# build Model #6\n",
        "# import optimizers module\n",
        "from tensorflow.keras import models, layers, optimizers\n",
        "network = models.Sequential()\n",
        "\n",
        "# changed number of units (input layer)\n",
        "network.add(layers.Dense(128, activation='relu', input_shape=(28 * 28, )))\n",
        "network.add(layers.Dense(10, activation='softmax'))\n",
        "\n",
        "network.compile(optimizer=optimizers.RMSprop(learning_rate=0.001),\n",
        "               loss='categorical_crossentropy',\n",
        "               metrics=['accuracy'])\n",
        "\n",
        "# display network capactiy\n",
        "network.summary()\n",
        "\n",
        "# train\n",
        "history = network.fit(train_images,\n",
        "                      train_labels,\n",
        "                      epochs=20,\n",
        "                      batch_size=128,\n",
        "                      validation_split = 0.166666666667)"
      ],
      "execution_count": null,
      "outputs": [
        {
          "output_type": "stream",
          "name": "stdout",
          "text": [
            "Model: \"sequential_19\"\n",
            "_________________________________________________________________\n",
            " Layer (type)                Output Shape              Param #   \n",
            "=================================================================\n",
            " dense_43 (Dense)            (None, 128)               100480    \n",
            "                                                                 \n",
            " dense_44 (Dense)            (None, 10)                1290      \n",
            "                                                                 \n",
            "=================================================================\n",
            "Total params: 101,770\n",
            "Trainable params: 101,770\n",
            "Non-trainable params: 0\n",
            "_________________________________________________________________\n",
            "Epoch 1/20\n",
            "391/391 [==============================] - 5s 11ms/step - loss: 0.3604 - accuracy: 0.9020 - val_loss: 0.1939 - val_accuracy: 0.9467\n",
            "Epoch 2/20\n",
            "391/391 [==============================] - 2s 5ms/step - loss: 0.1708 - accuracy: 0.9508 - val_loss: 0.1397 - val_accuracy: 0.9609\n",
            "Epoch 3/20\n",
            "391/391 [==============================] - 2s 6ms/step - loss: 0.1213 - accuracy: 0.9647 - val_loss: 0.1101 - val_accuracy: 0.9672\n",
            "Epoch 4/20\n",
            "391/391 [==============================] - 2s 5ms/step - loss: 0.0947 - accuracy: 0.9722 - val_loss: 0.1036 - val_accuracy: 0.9688\n",
            "Epoch 5/20\n",
            "391/391 [==============================] - 2s 5ms/step - loss: 0.0769 - accuracy: 0.9777 - val_loss: 0.0918 - val_accuracy: 0.9727\n",
            "Epoch 6/20\n",
            "391/391 [==============================] - 2s 5ms/step - loss: 0.0643 - accuracy: 0.9810 - val_loss: 0.0866 - val_accuracy: 0.9751\n",
            "Epoch 7/20\n",
            "391/391 [==============================] - 2s 5ms/step - loss: 0.0544 - accuracy: 0.9844 - val_loss: 0.0848 - val_accuracy: 0.9760\n",
            "Epoch 8/20\n",
            "391/391 [==============================] - 2s 6ms/step - loss: 0.0465 - accuracy: 0.9869 - val_loss: 0.0855 - val_accuracy: 0.9771\n",
            "Epoch 9/20\n",
            "391/391 [==============================] - 2s 6ms/step - loss: 0.0404 - accuracy: 0.9882 - val_loss: 0.0782 - val_accuracy: 0.9773\n",
            "Epoch 10/20\n",
            "391/391 [==============================] - 2s 6ms/step - loss: 0.0355 - accuracy: 0.9902 - val_loss: 0.0802 - val_accuracy: 0.9757\n",
            "Epoch 11/20\n",
            "391/391 [==============================] - 2s 6ms/step - loss: 0.0303 - accuracy: 0.9915 - val_loss: 0.0798 - val_accuracy: 0.9771\n",
            "Epoch 12/20\n",
            "391/391 [==============================] - 2s 6ms/step - loss: 0.0261 - accuracy: 0.9927 - val_loss: 0.0814 - val_accuracy: 0.9777\n",
            "Epoch 13/20\n",
            "391/391 [==============================] - 2s 5ms/step - loss: 0.0227 - accuracy: 0.9941 - val_loss: 0.0852 - val_accuracy: 0.9761\n",
            "Epoch 14/20\n",
            "391/391 [==============================] - 2s 5ms/step - loss: 0.0198 - accuracy: 0.9945 - val_loss: 0.0817 - val_accuracy: 0.9771\n",
            "Epoch 15/20\n",
            "391/391 [==============================] - 2s 5ms/step - loss: 0.0168 - accuracy: 0.9957 - val_loss: 0.0878 - val_accuracy: 0.9773\n",
            "Epoch 16/20\n",
            "391/391 [==============================] - 2s 5ms/step - loss: 0.0144 - accuracy: 0.9965 - val_loss: 0.0847 - val_accuracy: 0.9781\n",
            "Epoch 17/20\n",
            "391/391 [==============================] - 2s 6ms/step - loss: 0.0125 - accuracy: 0.9965 - val_loss: 0.0830 - val_accuracy: 0.9782\n",
            "Epoch 18/20\n",
            "391/391 [==============================] - 2s 5ms/step - loss: 0.0108 - accuracy: 0.9975 - val_loss: 0.0841 - val_accuracy: 0.9781\n",
            "Epoch 19/20\n",
            "391/391 [==============================] - 2s 6ms/step - loss: 0.0091 - accuracy: 0.9979 - val_loss: 0.0935 - val_accuracy: 0.9778\n",
            "Epoch 20/20\n",
            "391/391 [==============================] - 2s 5ms/step - loss: 0.0080 - accuracy: 0.9981 - val_loss: 0.0924 - val_accuracy: 0.9777\n"
          ]
        }
      ]
    },
    {
      "cell_type": "code",
      "metadata": {
        "colab": {
          "base_uri": "https://localhost:8080/",
          "height": 295
        },
        "id": "_9zgmw259gL3",
        "outputId": "3cb414e0-b640-4985-f4b0-84621ae404bc"
      },
      "source": [
        "plot_loss()"
      ],
      "execution_count": null,
      "outputs": [
        {
          "output_type": "display_data",
          "data": {
            "image/png": "[encoded data removed]",
            "text/plain": [
              "<Figure size 432x288 with 1 Axes>"
            ]
          },
          "metadata": {
            "needs_background": "light"
          }
        }
      ]
    },
    {
      "cell_type": "code",
      "metadata": {
        "colab": {
          "base_uri": "https://localhost:8080/",
          "height": 295
        },
        "id": "HcURCqNS9gT-",
        "outputId": "81232350-7a6c-4408-a245-5964a9821346"
      },
      "source": [
        "plot_acc()"
      ],
      "execution_count": null,
      "outputs": [
        {
          "output_type": "display_data",
          "data": {
            "image/png": "[encoded data removed]",
            "text/plain": [
              "<Figure size 432x288 with 1 Axes>"
            ]
          },
          "metadata": {
            "needs_background": "light"
          }
        }
      ]
    },
    {
      "cell_type": "markdown",
      "metadata": {
        "id": "v7gZt2sBEwBG"
      },
      "source": [
        "Adjusting the learning rate has not resulted in a peak in overall validation loss or accruacy, meaning the model with the default learning rate is proving itself to be the most optimum."
      ]
    },
    {
      "cell_type": "markdown",
      "metadata": {
        "id": "cH3UjArCFMI-"
      },
      "source": [
        "| Model #   | Number of layers | Number of units/layer | Learning rate | Results  |\n",
        "| ----------| -----------| -------- | -------- | ------- |\n",
        "|4 | 2 | 128, 10 | default (0.001) |Best accuracy, circa 98%. Best loss, circa 0.0786. Minimal overfitting experienced.\n",
        "| 6 | 2 | 128, 10 | 0.01 | Best accuracy, circa 98%. Best loss circa 0.0782"
      ]
    },
    {
      "cell_type": "markdown",
      "metadata": {
        "id": "977lqHSnHbfi"
      },
      "source": [
        "To substantiate that the default learning rate is best option for the final model, I will further my experiment on learning rates. This time the learning rate will be 0.005 instead of 0.1. Incase 0.01 was too large of an interval."
      ]
    },
    {
      "cell_type": "markdown",
      "metadata": {
        "id": "RPHX3sbg9uny"
      },
      "source": [
        "#### Model #7: Adjusting learning rate (0.005)"
      ]
    },
    {
      "cell_type": "code",
      "metadata": {
        "colab": {
          "base_uri": "https://localhost:8080/"
        },
        "id": "_-gLizd89uBu",
        "outputId": "b72875b1-2dfd-49da-aff1-c55a3095934a"
      },
      "source": [
        "# build Model #7\n",
        "# import optimizers module\n",
        "from tensorflow.keras import models, layers, optimizers\n",
        "network = models.Sequential()\n",
        "\n",
        "network.add(layers.Dense(128, activation='relu', input_shape=(28 * 28, )))\n",
        "network.add(layers.Dense(10, activation='softmax'))\n",
        "\n",
        "# learning rate able to changed\n",
        "network.compile(optimizer=optimizers.RMSprop(learning_rate=0.005),\n",
        "               loss='categorical_crossentropy',\n",
        "               metrics=['accuracy'])\n",
        "\n",
        "# display network capactiy\n",
        "network.summary()\n",
        "\n",
        "# train\n",
        "history = network.fit(train_images,\n",
        "                      train_labels,\n",
        "                      epochs=20,\n",
        "                      batch_size=128,\n",
        "                      validation_split = 0.166666666667)"
      ],
      "execution_count": null,
      "outputs": [
        {
          "output_type": "stream",
          "name": "stdout",
          "text": [
            "Model: \"sequential_17\"\n",
            "_________________________________________________________________\n",
            " Layer (type)                Output Shape              Param #   \n",
            "=================================================================\n",
            " dense_39 (Dense)            (None, 128)               100480    \n",
            "                                                                 \n",
            " dense_40 (Dense)            (None, 10)                1290      \n",
            "                                                                 \n",
            "=================================================================\n",
            "Total params: 101,770\n",
            "Trainable params: 101,770\n",
            "Non-trainable params: 0\n",
            "_________________________________________________________________\n",
            "Epoch 1/20\n",
            "391/391 [==============================] - 3s 6ms/step - loss: 0.2631 - accuracy: 0.9184 - val_loss: 0.1158 - val_accuracy: 0.9665\n",
            "Epoch 2/20\n",
            "391/391 [==============================] - 2s 6ms/step - loss: 0.1089 - accuracy: 0.9679 - val_loss: 0.1008 - val_accuracy: 0.9712\n",
            "Epoch 3/20\n",
            "391/391 [==============================] - 2s 6ms/step - loss: 0.0759 - accuracy: 0.9771 - val_loss: 0.0963 - val_accuracy: 0.9739\n",
            "Epoch 4/20\n",
            "391/391 [==============================] - 2s 6ms/step - loss: 0.0604 - accuracy: 0.9816 - val_loss: 0.0942 - val_accuracy: 0.9759\n",
            "Epoch 5/20\n",
            "391/391 [==============================] - 2s 6ms/step - loss: 0.0487 - accuracy: 0.9856 - val_loss: 0.1206 - val_accuracy: 0.9721\n",
            "Epoch 6/20\n",
            "391/391 [==============================] - 2s 6ms/step - loss: 0.0424 - accuracy: 0.9872 - val_loss: 0.1144 - val_accuracy: 0.9751\n",
            "Epoch 7/20\n",
            "391/391 [==============================] - 3s 6ms/step - loss: 0.0325 - accuracy: 0.9900 - val_loss: 0.1152 - val_accuracy: 0.9754\n",
            "Epoch 8/20\n",
            "391/391 [==============================] - 2s 6ms/step - loss: 0.0283 - accuracy: 0.9909 - val_loss: 0.1322 - val_accuracy: 0.9757\n",
            "Epoch 9/20\n",
            "391/391 [==============================] - 2s 6ms/step - loss: 0.0255 - accuracy: 0.9925 - val_loss: 0.1279 - val_accuracy: 0.9748\n",
            "Epoch 10/20\n",
            "391/391 [==============================] - 2s 6ms/step - loss: 0.0211 - accuracy: 0.9938 - val_loss: 0.1446 - val_accuracy: 0.9759\n",
            "Epoch 11/20\n",
            "391/391 [==============================] - 2s 6ms/step - loss: 0.0200 - accuracy: 0.9938 - val_loss: 0.1572 - val_accuracy: 0.9727\n",
            "Epoch 12/20\n",
            "391/391 [==============================] - 2s 6ms/step - loss: 0.0168 - accuracy: 0.9947 - val_loss: 0.1568 - val_accuracy: 0.9757\n",
            "Epoch 13/20\n",
            "391/391 [==============================] - 2s 6ms/step - loss: 0.0149 - accuracy: 0.9953 - val_loss: 0.1820 - val_accuracy: 0.9768\n",
            "Epoch 14/20\n",
            "391/391 [==============================] - 2s 5ms/step - loss: 0.0146 - accuracy: 0.9954 - val_loss: 0.1945 - val_accuracy: 0.9717\n",
            "Epoch 15/20\n",
            "391/391 [==============================] - 2s 6ms/step - loss: 0.0126 - accuracy: 0.9962 - val_loss: 0.1670 - val_accuracy: 0.9771\n",
            "Epoch 16/20\n",
            "391/391 [==============================] - 2s 5ms/step - loss: 0.0124 - accuracy: 0.9963 - val_loss: 0.1683 - val_accuracy: 0.9773\n",
            "Epoch 17/20\n",
            "391/391 [==============================] - 2s 5ms/step - loss: 0.0098 - accuracy: 0.9971 - val_loss: 0.1903 - val_accuracy: 0.9778\n",
            "Epoch 18/20\n",
            "391/391 [==============================] - 2s 6ms/step - loss: 0.0104 - accuracy: 0.9970 - val_loss: 0.1807 - val_accuracy: 0.9771\n",
            "Epoch 19/20\n",
            "391/391 [==============================] - 2s 6ms/step - loss: 0.0079 - accuracy: 0.9972 - val_loss: 0.1886 - val_accuracy: 0.9777\n",
            "Epoch 20/20\n",
            "391/391 [==============================] - 2s 6ms/step - loss: 0.0088 - accuracy: 0.9972 - val_loss: 0.2015 - val_accuracy: 0.9777\n"
          ]
        }
      ]
    },
    {
      "cell_type": "code",
      "metadata": {
        "colab": {
          "base_uri": "https://localhost:8080/",
          "height": 295
        },
        "id": "WrcXbT6d-clU",
        "outputId": "f52f032e-f76e-4ad6-bc8c-376213388731"
      },
      "source": [
        "plot_loss()"
      ],
      "execution_count": null,
      "outputs": [
        {
          "output_type": "display_data",
          "data": {
            "image/png": "[encoded data removed]",
            "text/plain": [
              "<Figure size 432x288 with 1 Axes>"
            ]
          },
          "metadata": {
            "needs_background": "light"
          }
        }
      ]
    },
    {
      "cell_type": "code",
      "metadata": {
        "colab": {
          "base_uri": "https://localhost:8080/",
          "height": 295
        },
        "id": "hYYalcGx-c4C",
        "outputId": "0292dcd7-0d96-4c8d-aa47-f41d6a96c33f"
      },
      "source": [
        "plot_acc()"
      ],
      "execution_count": null,
      "outputs": [
        {
          "output_type": "display_data",
          "data": {
            "image/png": "[encoded data removed]",
            "text/plain": [
              "<Figure size 432x288 with 1 Axes>"
            ]
          },
          "metadata": {
            "needs_background": "light"
          }
        }
      ]
    },
    {
      "cell_type": "markdown",
      "metadata": {
        "id": "hJVBvawgIsb1"
      },
      "source": [
        "Using the rsults from this table I will be confident using the default learning rate for the RMSProp optimiser. When using the slightly higher learing rate in Model #7 of 0.005, there was a great overfitting to the traning data."
      ]
    },
    {
      "cell_type": "markdown",
      "metadata": {
        "id": "S04YuMtMIyvr"
      },
      "source": [
        "| Model #   | Number of layers | Number of units/layer | Learning rate | Results  |\n",
        "| ----------| -----------| -------- | -------- | ------- |\n",
        "|4 | 2 | 128, 10 | default (0.001) |Best accuracy, circa 98%. Best loss, circa 0.0786. Minimal overfitting experienced.\n",
        "| 6 | 2 | 128, 10 | 0.01 | Best accuracy, circa 98%. Best loss circa 0.0782. Again, minimal overfitted resources.\n",
        "|7 | 2 | 128, 10 | 0.005 | best acc is circa 98% and the best loss is 0.0942. Severe overfitting after 3rd epoch occured."
      ]
    },
    {
      "cell_type": "markdown",
      "metadata": {
        "id": "W4F3v1_5-mE5"
      },
      "source": [
        "#### Model #8: Changing activation function (linear)"
      ]
    },
    {
      "cell_type": "code",
      "metadata": {
        "colab": {
          "base_uri": "https://localhost:8080/"
        },
        "id": "EPqgii2t-mxJ",
        "outputId": "1b69d5d5-c88f-48d8-be3e-76d3192a5c03"
      },
      "source": [
        "# build Model #8\n",
        "\n",
        "from tensorflow.keras import models, layers\n",
        "network = models.Sequential()\n",
        "\n",
        "# changed activation function\n",
        "network.add(layers.Dense(128, activation='linear', input_shape=(28 * 28, )))\n",
        "network.add(layers.Dense(10, activation='softmax'))\n",
        "\n",
        "network.compile(optimizer='rmsprop',\n",
        "               loss='categorical_crossentropy',\n",
        "               metrics=['accuracy'])\n",
        "\n",
        "# display network capactiy\n",
        "network.summary()\n",
        "\n",
        "# train\n",
        "history = network.fit(train_images,\n",
        "                      train_labels,\n",
        "                      epochs=20,\n",
        "                      batch_size=128,\n",
        "                      validation_split = 0.166666666667)"
      ],
      "execution_count": null,
      "outputs": [
        {
          "output_type": "stream",
          "name": "stdout",
          "text": [
            "Model: \"sequential_18\"\n",
            "_________________________________________________________________\n",
            " Layer (type)                Output Shape              Param #   \n",
            "=================================================================\n",
            " dense_41 (Dense)            (None, 128)               100480    \n",
            "                                                                 \n",
            " dense_42 (Dense)            (None, 10)                1290      \n",
            "                                                                 \n",
            "=================================================================\n",
            "Total params: 101,770\n",
            "Trainable params: 101,770\n",
            "Non-trainable params: 0\n",
            "_________________________________________________________________\n",
            "Epoch 1/20\n",
            "391/391 [==============================] - 3s 6ms/step - loss: 0.4062 - accuracy: 0.8850 - val_loss: 0.2858 - val_accuracy: 0.9213\n",
            "Epoch 2/20\n",
            "391/391 [==============================] - 2s 6ms/step - loss: 0.3021 - accuracy: 0.9146 - val_loss: 0.2995 - val_accuracy: 0.9187\n",
            "Epoch 3/20\n",
            "391/391 [==============================] - 2s 6ms/step - loss: 0.2889 - accuracy: 0.9201 - val_loss: 0.2677 - val_accuracy: 0.9285\n",
            "Epoch 4/20\n",
            "391/391 [==============================] - 2s 6ms/step - loss: 0.2822 - accuracy: 0.9211 - val_loss: 0.2753 - val_accuracy: 0.9245\n",
            "Epoch 5/20\n",
            "391/391 [==============================] - 2s 6ms/step - loss: 0.2768 - accuracy: 0.9225 - val_loss: 0.2803 - val_accuracy: 0.9237\n",
            "Epoch 6/20\n",
            "391/391 [==============================] - 2s 6ms/step - loss: 0.2726 - accuracy: 0.9241 - val_loss: 0.2670 - val_accuracy: 0.9280\n",
            "Epoch 7/20\n",
            "391/391 [==============================] - 2s 6ms/step - loss: 0.2696 - accuracy: 0.9254 - val_loss: 0.2647 - val_accuracy: 0.9293\n",
            "Epoch 8/20\n",
            "391/391 [==============================] - 2s 6ms/step - loss: 0.2680 - accuracy: 0.9248 - val_loss: 0.2593 - val_accuracy: 0.9288\n",
            "Epoch 9/20\n",
            "391/391 [==============================] - 2s 5ms/step - loss: 0.2657 - accuracy: 0.9265 - val_loss: 0.2634 - val_accuracy: 0.9305\n",
            "Epoch 10/20\n",
            "391/391 [==============================] - 2s 6ms/step - loss: 0.2636 - accuracy: 0.9273 - val_loss: 0.2651 - val_accuracy: 0.9300\n",
            "Epoch 11/20\n",
            "391/391 [==============================] - 2s 6ms/step - loss: 0.2623 - accuracy: 0.9281 - val_loss: 0.2598 - val_accuracy: 0.9321\n",
            "Epoch 12/20\n",
            "391/391 [==============================] - 2s 6ms/step - loss: 0.2614 - accuracy: 0.9272 - val_loss: 0.2666 - val_accuracy: 0.9294\n",
            "Epoch 13/20\n",
            "391/391 [==============================] - 2s 6ms/step - loss: 0.2600 - accuracy: 0.9280 - val_loss: 0.2617 - val_accuracy: 0.9301\n",
            "Epoch 14/20\n",
            "391/391 [==============================] - 2s 6ms/step - loss: 0.2581 - accuracy: 0.9282 - val_loss: 0.2643 - val_accuracy: 0.9307\n",
            "Epoch 15/20\n",
            "391/391 [==============================] - 2s 6ms/step - loss: 0.2573 - accuracy: 0.9286 - val_loss: 0.2636 - val_accuracy: 0.9308\n",
            "Epoch 16/20\n",
            "391/391 [==============================] - 2s 6ms/step - loss: 0.2566 - accuracy: 0.9287 - val_loss: 0.2694 - val_accuracy: 0.9310\n",
            "Epoch 17/20\n",
            "391/391 [==============================] - 2s 5ms/step - loss: 0.2551 - accuracy: 0.9288 - val_loss: 0.2793 - val_accuracy: 0.9242\n",
            "Epoch 18/20\n",
            "391/391 [==============================] - 2s 6ms/step - loss: 0.2552 - accuracy: 0.9291 - val_loss: 0.2644 - val_accuracy: 0.9298\n",
            "Epoch 19/20\n",
            "391/391 [==============================] - 2s 6ms/step - loss: 0.2542 - accuracy: 0.9292 - val_loss: 0.2652 - val_accuracy: 0.9296\n",
            "Epoch 20/20\n",
            "391/391 [==============================] - 2s 6ms/step - loss: 0.2538 - accuracy: 0.9296 - val_loss: 0.2736 - val_accuracy: 0.9243\n"
          ]
        }
      ]
    },
    {
      "cell_type": "code",
      "metadata": {
        "colab": {
          "base_uri": "https://localhost:8080/",
          "height": 295
        },
        "id": "slwp8YMP_xnK",
        "outputId": "19edda0f-b063-49a8-e24f-e520918451cb"
      },
      "source": [
        "plot_loss()"
      ],
      "execution_count": null,
      "outputs": [
        {
          "output_type": "display_data",
          "data": {
            "image/png": "[encoded data removed]",
            "text/plain": [
              "<Figure size 432x288 with 1 Axes>"
            ]
          },
          "metadata": {
            "needs_background": "light"
          }
        }
      ]
    },
    {
      "cell_type": "code",
      "metadata": {
        "colab": {
          "base_uri": "https://localhost:8080/",
          "height": 295
        },
        "id": "Iefa78EX_yHH",
        "outputId": "0b816302-1cc6-4e2f-fa58-27c4ee994214"
      },
      "source": [
        "plot_acc()"
      ],
      "execution_count": null,
      "outputs": [
        {
          "output_type": "display_data",
          "data": {
            "image/png": "[encoded data removed]",
            "text/plain": [
              "<Figure size 432x288 with 1 Axes>"
            ]
          },
          "metadata": {
            "needs_background": "light"
          }
        }
      ]
    },
    {
      "cell_type": "markdown",
      "metadata": {
        "id": "CwXvxhQA_61b"
      },
      "source": [
        "Linear proves not to be a suitable activation funtion for our problem. We see a decrease in validation accuracy. From our average 98% to 93%. Clearly, the Relu activation function is more suited to the problem at hand.\n",
        "\n",
        "Although there is less difference between validation and training loss, the validation loss is best at 0.2593, which is much higher than the relu activated networks.\n",
        "\n",
        "The table below shows our current comparisons."
      ]
    },
    {
      "cell_type": "markdown",
      "metadata": {
        "id": "BAATnTY33Z0p"
      },
      "source": [
        "| Model #   | Number of layers | Number of units/layer |  Activation |Results  |\n",
        "| ----------| -----------| -------- | -------- | ------- |\n",
        "|4 | 2 | 128, 10 | relu |Best accuracy, circa 98%. Best loss, circa 0.0786. Minimal overfitting experienced.\n",
        "| 8 | 2 | 128, 10 | linear | Best accuracy, circa 93%. Best loss circa 0.2593. Next to no overfitting."
      ]
    },
    {
      "cell_type": "markdown",
      "metadata": {
        "id": "Sna5fmZk377M"
      },
      "source": [
        "The next activation configuaration to experiment with is to use the 'tanh' function as the output layer activation instead of softmax. We had thought that softmax was the best activation for this unique problem, but here is an oppurtunity for this to be proven or disproven.\n",
        "\n"
      ]
    },
    {
      "cell_type": "markdown",
      "metadata": {
        "id": "XSzk9E7rADDx"
      },
      "source": [
        "#### Model #9: Changing activation function (tanh)"
      ]
    },
    {
      "cell_type": "code",
      "metadata": {
        "colab": {
          "base_uri": "https://localhost:8080/"
        },
        "id": "Ui61FRmfABjt",
        "outputId": "e53543e0-91bd-4f2c-d459-3751c3e6f2d3"
      },
      "source": [
        "# build Model #9\n",
        "\n",
        "from tensorflow.keras import models, layers\n",
        "network = models.Sequential()\n",
        "\n",
        "# changed activation\n",
        "network.add(layers.Dense(128, activation='relu', input_shape=(28 * 28, )))\n",
        "network.add(layers.Dense(10, activation='tanh'))\n",
        "\n",
        "network.compile(optimizer='rmsprop',\n",
        "               loss='categorical_crossentropy',\n",
        "               metrics=['accuracy'])\n",
        "\n",
        "# display network capactiy\n",
        "network.summary()\n",
        "\n",
        "# train\n",
        "history = network.fit(train_images,\n",
        "                      train_labels,\n",
        "                      epochs=20,\n",
        "                      batch_size=128,\n",
        "                      validation_split = 0.166666666667)"
      ],
      "execution_count": null,
      "outputs": [
        {
          "output_type": "stream",
          "name": "stdout",
          "text": [
            "Model: \"sequential_1\"\n",
            "_________________________________________________________________\n",
            " Layer (type)                Output Shape              Param #   \n",
            "=================================================================\n",
            " dense_2 (Dense)             (None, 128)               100480    \n",
            "                                                                 \n",
            " dense_3 (Dense)             (None, 10)                1290      \n",
            "                                                                 \n",
            "=================================================================\n",
            "Total params: 101,770\n",
            "Trainable params: 101,770\n",
            "Non-trainable params: 0\n",
            "_________________________________________________________________\n",
            "Epoch 1/20\n",
            "391/391 [==============================] - 3s 6ms/step - loss: 9.0174 - accuracy: 0.1970 - val_loss: 10.3315 - val_accuracy: 0.1283\n",
            "Epoch 2/20\n",
            "391/391 [==============================] - 2s 5ms/step - loss: 8.6720 - accuracy: 0.1818 - val_loss: 8.0308 - val_accuracy: 0.1937\n",
            "Epoch 3/20\n",
            "391/391 [==============================] - 2s 5ms/step - loss: 8.5927 - accuracy: 0.1808 - val_loss: 8.7093 - val_accuracy: 0.1734\n",
            "Epoch 4/20\n",
            "391/391 [==============================] - 2s 5ms/step - loss: 8.4357 - accuracy: 0.1550 - val_loss: 8.7672 - val_accuracy: 0.1465\n",
            "Epoch 5/20\n",
            "391/391 [==============================] - 2s 5ms/step - loss: 8.5508 - accuracy: 0.1247 - val_loss: 8.8927 - val_accuracy: 0.1393\n",
            "Epoch 6/20\n",
            "391/391 [==============================] - 2s 5ms/step - loss: 8.7731 - accuracy: 0.1444 - val_loss: 9.6990 - val_accuracy: 0.2439\n",
            "Epoch 7/20\n",
            "391/391 [==============================] - 2s 5ms/step - loss: 9.1956 - accuracy: 0.2087 - val_loss: 9.6887 - val_accuracy: 0.2973\n",
            "Epoch 8/20\n",
            "391/391 [==============================] - 2s 5ms/step - loss: 9.6059 - accuracy: 0.1986 - val_loss: 10.4092 - val_accuracy: 0.1387\n",
            "Epoch 9/20\n",
            "391/391 [==============================] - 2s 5ms/step - loss: 9.4752 - accuracy: 0.1579 - val_loss: 11.5365 - val_accuracy: 0.1598\n",
            "Epoch 10/20\n",
            "391/391 [==============================] - 2s 5ms/step - loss: 9.5888 - accuracy: 0.1663 - val_loss: 10.1924 - val_accuracy: 0.1796\n",
            "Epoch 11/20\n",
            "391/391 [==============================] - 2s 5ms/step - loss: 10.2326 - accuracy: 0.1464 - val_loss: 9.6908 - val_accuracy: 0.1463\n",
            "Epoch 12/20\n",
            "391/391 [==============================] - 2s 5ms/step - loss: 10.0478 - accuracy: 0.2070 - val_loss: 10.7623 - val_accuracy: 0.2704\n",
            "Epoch 13/20\n",
            "391/391 [==============================] - 2s 5ms/step - loss: 10.3538 - accuracy: 0.2391 - val_loss: 10.3619 - val_accuracy: 0.2113\n",
            "Epoch 14/20\n",
            "391/391 [==============================] - 2s 5ms/step - loss: 9.4034 - accuracy: 0.1968 - val_loss: 9.2076 - val_accuracy: 0.2029\n",
            "Epoch 15/20\n",
            "391/391 [==============================] - 2s 5ms/step - loss: 10.0727 - accuracy: 0.2108 - val_loss: 9.0199 - val_accuracy: 0.1548\n",
            "Epoch 16/20\n",
            "391/391 [==============================] - 2s 5ms/step - loss: 9.3713 - accuracy: 0.1482 - val_loss: 10.0225 - val_accuracy: 0.1653\n",
            "Epoch 17/20\n",
            "391/391 [==============================] - 2s 5ms/step - loss: 9.5131 - accuracy: 0.1854 - val_loss: 9.9141 - val_accuracy: 0.1439\n",
            "Epoch 18/20\n",
            "391/391 [==============================] - 2s 5ms/step - loss: 9.4558 - accuracy: 0.1696 - val_loss: 10.3260 - val_accuracy: 0.1515\n",
            "Epoch 19/20\n",
            "391/391 [==============================] - 2s 5ms/step - loss: 10.1843 - accuracy: 0.2029 - val_loss: 9.8104 - val_accuracy: 0.1486\n",
            "Epoch 20/20\n",
            "391/391 [==============================] - 2s 5ms/step - loss: 9.5449 - accuracy: 0.1532 - val_loss: 9.9945 - val_accuracy: 0.1218\n"
          ]
        }
      ]
    },
    {
      "cell_type": "code",
      "metadata": {
        "colab": {
          "base_uri": "https://localhost:8080/",
          "height": 295
        },
        "id": "64sR4BaT4sbU",
        "outputId": "2839d555-79e5-44f4-cb07-e01050cc9c93"
      },
      "source": [
        "plot_loss()"
      ],
      "execution_count": null,
      "outputs": [
        {
          "output_type": "display_data",
          "data": {
            "image/png": "[encoded data removed]",
            "text/plain": [
              "<Figure size 432x288 with 1 Axes>"
            ]
          },
          "metadata": {
            "needs_background": "light"
          }
        }
      ]
    },
    {
      "cell_type": "code",
      "metadata": {
        "colab": {
          "base_uri": "https://localhost:8080/",
          "height": 295
        },
        "id": "xC6XyuvE4x-6",
        "outputId": "e029fb6f-8a0f-4d51-a9c4-4d8bc79c3974"
      },
      "source": [
        "plot_acc()"
      ],
      "execution_count": null,
      "outputs": [
        {
          "output_type": "display_data",
          "data": {
            "image/png": "[encoded data removed]",
            "text/plain": [
              "<Figure size 432x288 with 1 Axes>"
            ]
          },
          "metadata": {
            "needs_background": "light"
          }
        }
      ]
    },
    {
      "cell_type": "markdown",
      "metadata": {
        "id": "RmbZCNQKAC9t"
      },
      "source": [
        "Here we have proven that the best activation for the input layers of our network is relu. Linear and Tanh especially cannot effectively map the inputs to targets."
      ]
    },
    {
      "cell_type": "markdown",
      "metadata": {
        "id": "90hrm6gLL7zJ"
      },
      "source": [
        "| Model #   | Activation |  Results  |\n",
        "| ----------| -----------| --------   |\n",
        "|8          | linear     |Best accuracy,  98%. Best loss, circa 0.0786. Minimal overfitting experienced. |\n",
        "| 9 | tanh | Best accuracy, circa 27%. Best loss circa 8.0308"
      ]
    },
    {
      "cell_type": "markdown",
      "metadata": {
        "id": "7DM7NznL46iU"
      },
      "source": [
        "We have explored the tuning of our hyperparameters, I will now build our best attainted model and train on our complete traning set, no validation set.\n",
        "\n",
        "We will evaluate this on our test set."
      ]
    },
    {
      "cell_type": "markdown",
      "metadata": {
        "id": "YsC1kFWW0i5E"
      },
      "source": [
        "#### Model #10: Training Optimal Model"
      ]
    },
    {
      "cell_type": "code",
      "metadata": {
        "colab": {
          "base_uri": "https://localhost:8080/"
        },
        "id": "HmF7L0zQ5UJ_",
        "outputId": "39171790-69eb-43fc-f2dc-70f8398a6b07"
      },
      "source": [
        "# build Model #10\n",
        "\n",
        "from tensorflow.keras import models, layers\n",
        "network = models.Sequential()\n",
        "\n",
        "network.add(layers.Dense(128, activation='relu', input_shape=(28 * 28, )))\n",
        "network.add(layers.Dense(10, activation='softmax'))\n",
        "\n",
        "network.compile(optimizer='rmsprop',\n",
        "               loss='categorical_crossentropy',\n",
        "               metrics=['accuracy'])\n",
        "\n",
        "# display network capactiy\n",
        "network.summary()\n",
        "\n",
        "# train\n",
        "history = network.fit(train_images,\n",
        "                      train_labels,\n",
        "                      epochs=20,\n",
        "                      batch_size=128)"
      ],
      "execution_count": null,
      "outputs": [
        {
          "output_type": "stream",
          "name": "stdout",
          "text": [
            "Model: \"sequential_2\"\n",
            "_________________________________________________________________\n",
            " Layer (type)                Output Shape              Param #   \n",
            "=================================================================\n",
            " dense_4 (Dense)             (None, 128)               100480    \n",
            "                                                                 \n",
            " dense_5 (Dense)             (None, 10)                1290      \n",
            "                                                                 \n",
            "=================================================================\n",
            "Total params: 101,770\n",
            "Trainable params: 101,770\n",
            "Non-trainable params: 0\n",
            "_________________________________________________________________\n",
            "Epoch 1/20\n",
            "469/469 [==============================] - 3s 4ms/step - loss: 0.3405 - accuracy: 0.9069\n",
            "Epoch 2/20\n",
            "469/469 [==============================] - 2s 4ms/step - loss: 0.1599 - accuracy: 0.9539\n",
            "Epoch 3/20\n",
            "469/469 [==============================] - 2s 4ms/step - loss: 0.1131 - accuracy: 0.9671\n",
            "Epoch 4/20\n",
            "469/469 [==============================] - 2s 4ms/step - loss: 0.0875 - accuracy: 0.9742\n",
            "Epoch 5/20\n",
            "469/469 [==============================] - 2s 4ms/step - loss: 0.0711 - accuracy: 0.9791\n",
            "Epoch 6/20\n",
            "469/469 [==============================] - 2s 4ms/step - loss: 0.0594 - accuracy: 0.9825\n",
            "Epoch 7/20\n",
            "469/469 [==============================] - 2s 4ms/step - loss: 0.0502 - accuracy: 0.9852\n",
            "Epoch 8/20\n",
            "469/469 [==============================] - 2s 4ms/step - loss: 0.0429 - accuracy: 0.9876\n",
            "Epoch 9/20\n",
            "469/469 [==============================] - 2s 4ms/step - loss: 0.0374 - accuracy: 0.9890\n",
            "Epoch 10/20\n",
            "469/469 [==============================] - 2s 4ms/step - loss: 0.0325 - accuracy: 0.9909\n",
            "Epoch 11/20\n",
            "469/469 [==============================] - 2s 4ms/step - loss: 0.0282 - accuracy: 0.9918\n",
            "Epoch 12/20\n",
            "469/469 [==============================] - 2s 4ms/step - loss: 0.0244 - accuracy: 0.9930\n",
            "Epoch 13/20\n",
            "469/469 [==============================] - 2s 5ms/step - loss: 0.0213 - accuracy: 0.9941\n",
            "Epoch 14/20\n",
            "469/469 [==============================] - 2s 4ms/step - loss: 0.0185 - accuracy: 0.9950\n",
            "Epoch 15/20\n",
            "469/469 [==============================] - 2s 4ms/step - loss: 0.0161 - accuracy: 0.9957\n",
            "Epoch 16/20\n",
            "469/469 [==============================] - 2s 4ms/step - loss: 0.0138 - accuracy: 0.9966\n",
            "Epoch 17/20\n",
            "469/469 [==============================] - 2s 4ms/step - loss: 0.0119 - accuracy: 0.9972\n",
            "Epoch 18/20\n",
            "469/469 [==============================] - 2s 4ms/step - loss: 0.0104 - accuracy: 0.9977\n",
            "Epoch 19/20\n",
            "469/469 [==============================] - 2s 5ms/step - loss: 0.0092 - accuracy: 0.9979\n",
            "Epoch 20/20\n",
            "469/469 [==============================] - 2s 4ms/step - loss: 0.0079 - accuracy: 0.9983\n"
          ]
        }
      ]
    },
    {
      "cell_type": "code",
      "metadata": {
        "colab": {
          "base_uri": "https://localhost:8080/",
          "height": 295
        },
        "id": "5_H33PK87kZF",
        "outputId": "af8f6c92-9cc5-4c2b-c309-ec0cd7838ede"
      },
      "source": [
        "history_dict = history.history\n",
        "\n",
        "# store values for each neccessary key in the dictionary\n",
        "loss_values = history_dict['loss']\n",
        "accuracy_values = history_dict['accuracy']\n",
        "\n",
        "epochs = range(1, len(accuracy_values) + 1)\n",
        "\n",
        "# format strings converter\n",
        "blue_dotted = 'ob'\n",
        "solid_blue_lines = '-b'\n",
        "\n",
        "# plot training loss\n",
        "plt.plot(epochs, loss_values, blue_dotted, label = 'Training loss')\n",
        "\n",
        "plt.title('Training loss')\n",
        "plt.xlabel('Epochs')\n",
        "plt.ylabel('Loss')\n",
        "plt.legend()\n",
        "\n",
        "plt.show()"
      ],
      "execution_count": null,
      "outputs": [
        {
          "output_type": "display_data",
          "data": {
            "image/png": "[encoded data removed]",
            "text/plain": [
              "<Figure size 432x288 with 1 Axes>"
            ]
          },
          "metadata": {
            "needs_background": "light"
          }
        }
      ]
    },
    {
      "cell_type": "code",
      "metadata": {
        "colab": {
          "base_uri": "https://localhost:8080/",
          "height": 295
        },
        "id": "YTnN0Uru7kwF",
        "outputId": "b57199db-801a-4522-ae2f-2d4135a71066"
      },
      "source": [
        "# function to clear current figure\n",
        "plt.clf()\n",
        "\n",
        "history_dict = history.history\n",
        "\n",
        "# store values for each neccessary key in the dictionary\n",
        "loss_values = history_dict['loss']\n",
        "accuracy_values = history_dict['accuracy']\n",
        "\n",
        "epochs = range(1, len(accuracy_values) + 1)\n",
        "\n",
        "# format strings converter\n",
        "blue_dotted = 'ob'\n",
        "solid_blue_lines = '-b'\n",
        "\n",
        "# plot training loss\n",
        "plt.plot(epochs, accuracy_values, blue_dotted, label = 'Training accuracy')\n",
        "\n",
        "plt.title('Training loss')\n",
        "plt.xlabel('Epochs')\n",
        "plt.ylabel('Loss')\n",
        "plt.legend()\n",
        "\n",
        "plt.show()"
      ],
      "execution_count": null,
      "outputs": [
        {
          "output_type": "display_data",
          "data": {
            "image/png": "[encoded data removed]",
            "text/plain": [
              "<Figure size 432x288 with 1 Axes>"
            ]
          },
          "metadata": {
            "needs_background": "light"
          }
        }
      ]
    },
    {
      "cell_type": "markdown",
      "metadata": {
        "id": "m0SdKc1C8QnU"
      },
      "source": []
    },
    {
      "cell_type": "code",
      "metadata": {
        "colab": {
          "base_uri": "https://localhost:8080/"
        },
        "id": "DZMQgzoh8RCP",
        "outputId": "6da11382-58e4-40df-a344-43ebcb306a76"
      },
      "source": [
        "network.evaluate(test_images, test_labels)"
      ],
      "execution_count": null,
      "outputs": [
        {
          "output_type": "stream",
          "name": "stdout",
          "text": [
            "313/313 [==============================] - 1s 2ms/step - loss: 0.0804 - accuracy: 0.9793\n"
          ]
        },
        {
          "output_type": "execute_result",
          "data": {
            "text/plain": [
              "[0.0803743302822113, 0.9793000221252441]"
            ]
          },
          "metadata": {},
          "execution_count": 14
        }
      ]
    },
    {
      "cell_type": "markdown",
      "metadata": {
        "id": "4he_Quq_LWYa"
      },
      "source": [
        "### Conclusions\n",
        "\n",
        "We developed a model with 98% accuracy in classifing handwritten digits. With a loss of 0.0804"
      ]
    }
  ]
}